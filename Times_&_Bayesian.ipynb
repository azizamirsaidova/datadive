{
  "nbformat": 4,
  "nbformat_minor": 0,
  "metadata": {
    "colab": {
      "name": "Times & Bayesian.ipynb",
      "provenance": [],
      "authorship_tag": "ABX9TyNIzqwbrLk6rD3F32FB4yJF",
      "include_colab_link": true
    },
    "kernelspec": {
      "name": "python3",
      "display_name": "Python 3"
    },
    "language_info": {
      "name": "python"
    }
  },
  "cells": [
    {
      "cell_type": "markdown",
      "metadata": {
        "id": "view-in-github",
        "colab_type": "text"
      },
      "source": [
        "<a href=\"https://colab.research.google.com/github/azizamirsaidova/datadive/blob/main/Times_%26_Bayesian.ipynb\" target=\"_parent\"><img src=\"https://colab.research.google.com/assets/colab-badge.svg\" alt=\"Open In Colab\"/></a>"
      ]
    },
    {
      "cell_type": "markdown",
      "source": [
        "# **Analyze the times of the day products are commonly purchased.**"
      ],
      "metadata": {
        "id": "2vS9HqqufZ94"
      }
    },
    {
      "cell_type": "code",
      "execution_count": 3,
      "metadata": {
        "id": "jSCd7hiI28oF"
      },
      "outputs": [],
      "source": [
        "import pandas as pd"
      ]
    },
    {
      "cell_type": "code",
      "source": [
        "df = pd.read_csv(\"final.csv\")"
      ],
      "metadata": {
        "id": "CiK67spV3Imv"
      },
      "execution_count": 4,
      "outputs": []
    },
    {
      "cell_type": "code",
      "source": [
        "df['DAYPART_DESC'].value_counts()"
      ],
      "metadata": {
        "id": "pJYHjhj9fm3W",
        "colab": {
          "base_uri": "https://localhost:8080/"
        },
        "outputId": "18e73860-a4e2-4a2b-87f9-7a801e234ca9"
      },
      "execution_count": 5,
      "outputs": [
        {
          "output_type": "execute_result",
          "data": {
            "text/plain": [
              "LUNCH        229752\n",
              "DINNER       144889\n",
              "PM CHILL     102881\n",
              "AM CHILL      60835\n",
              "BREAKFAST     47974\n",
              "Name: DAYPART_DESC, dtype: int64"
            ]
          },
          "metadata": {},
          "execution_count": 5
        }
      ]
    },
    {
      "cell_type": "code",
      "source": [
        "daypart_by_freq_product = df.groupby([\"DAYPART_DESC\"])[\"MAIN_CATEGORY_DESC\"].count().to_frame()\n",
        "daypart_by_freq_product"
      ],
      "metadata": {
        "id": "WYBhK3uLFXkH",
        "colab": {
          "base_uri": "https://localhost:8080/",
          "height": 235
        },
        "outputId": "ae34353b-49a9-4f0d-bc28-dbafc37f7517"
      },
      "execution_count": 6,
      "outputs": [
        {
          "output_type": "execute_result",
          "data": {
            "text/html": [
              "<div>\n",
              "<style scoped>\n",
              "    .dataframe tbody tr th:only-of-type {\n",
              "        vertical-align: middle;\n",
              "    }\n",
              "\n",
              "    .dataframe tbody tr th {\n",
              "        vertical-align: top;\n",
              "    }\n",
              "\n",
              "    .dataframe thead th {\n",
              "        text-align: right;\n",
              "    }\n",
              "</style>\n",
              "<table border=\"1\" class=\"dataframe\">\n",
              "  <thead>\n",
              "    <tr style=\"text-align: right;\">\n",
              "      <th></th>\n",
              "      <th>MAIN_CATEGORY_DESC</th>\n",
              "    </tr>\n",
              "    <tr>\n",
              "      <th>DAYPART_DESC</th>\n",
              "      <th></th>\n",
              "    </tr>\n",
              "  </thead>\n",
              "  <tbody>\n",
              "    <tr>\n",
              "      <th>AM CHILL</th>\n",
              "      <td>60835</td>\n",
              "    </tr>\n",
              "    <tr>\n",
              "      <th>BREAKFAST</th>\n",
              "      <td>47974</td>\n",
              "    </tr>\n",
              "    <tr>\n",
              "      <th>DINNER</th>\n",
              "      <td>144889</td>\n",
              "    </tr>\n",
              "    <tr>\n",
              "      <th>LUNCH</th>\n",
              "      <td>229752</td>\n",
              "    </tr>\n",
              "    <tr>\n",
              "      <th>PM CHILL</th>\n",
              "      <td>102881</td>\n",
              "    </tr>\n",
              "  </tbody>\n",
              "</table>\n",
              "</div>"
            ],
            "text/plain": [
              "              MAIN_CATEGORY_DESC\n",
              "DAYPART_DESC                    \n",
              "AM CHILL                   60835\n",
              "BREAKFAST                  47974\n",
              "DINNER                    144889\n",
              "LUNCH                     229752\n",
              "PM CHILL                  102881"
            ]
          },
          "metadata": {},
          "execution_count": 6
        }
      ]
    },
    {
      "cell_type": "code",
      "source": [
        "daypart_by_freq_product.reset_index(inplace=True)"
      ],
      "metadata": {
        "id": "BuWZkT2CIkCi"
      },
      "execution_count": 7,
      "outputs": []
    },
    {
      "cell_type": "code",
      "source": [
        "import plotly.express as px\n",
        "fig = px.pie(daypart_by_freq_product, values='MAIN_CATEGORY_DESC', names='DAYPART_DESC', title='Part of the day that main category products are purchased the most', color_discrete_sequence=px.colors.sequential.RdBu)\n",
        "fig.show()"
      ],
      "metadata": {
        "id": "7PL1UspQGeVz",
        "colab": {
          "base_uri": "https://localhost:8080/",
          "height": 542
        },
        "outputId": "b0ee8ed8-e69c-4d64-ad21-24c0f9a41575"
      },
      "execution_count": 8,
      "outputs": [
        {
          "output_type": "display_data",
          "data": {
            "text/html": [
              "<html>\n",
              "<head><meta charset=\"utf-8\" /></head>\n",
              "<body>\n",
              "    <div>\n",
              "            <script src=\"https://cdnjs.cloudflare.com/ajax/libs/mathjax/2.7.5/MathJax.js?config=TeX-AMS-MML_SVG\"></script><script type=\"text/javascript\">if (window.MathJax) {MathJax.Hub.Config({SVG: {font: \"STIX-Web\"}});}</script>\n",
              "                <script type=\"text/javascript\">window.PlotlyConfig = {MathJaxConfig: 'local'};</script>\n",
              "        <script src=\"https://cdn.plot.ly/plotly-latest.min.js\"></script>    \n",
              "            <div id=\"367c74cc-8c16-4ebe-aa26-9a1982756355\" class=\"plotly-graph-div\" style=\"height:525px; width:100%;\"></div>\n",
              "            <script type=\"text/javascript\">\n",
              "                \n",
              "                    window.PLOTLYENV=window.PLOTLYENV || {};\n",
              "                    \n",
              "                if (document.getElementById(\"367c74cc-8c16-4ebe-aa26-9a1982756355\")) {\n",
              "                    Plotly.newPlot(\n",
              "                        '367c74cc-8c16-4ebe-aa26-9a1982756355',\n",
              "                        [{\"domain\": {\"x\": [0.0, 1.0], \"y\": [0.0, 1.0]}, \"hoverlabel\": {\"namelength\": 0}, \"hovertemplate\": \"DAYPART_DESC=%{label}<br>MAIN_CATEGORY_DESC=%{value}\", \"labels\": [\"AM CHILL\", \"BREAKFAST\", \"DINNER\", \"LUNCH\", \"PM CHILL\"], \"legendgroup\": \"\", \"name\": \"\", \"showlegend\": true, \"type\": \"pie\", \"values\": [60835, 47974, 144889, 229752, 102881]}],\n",
              "                        {\"legend\": {\"tracegroupgap\": 0}, \"piecolorway\": [\"rgb(103,0,31)\", \"rgb(178,24,43)\", \"rgb(214,96,77)\", \"rgb(244,165,130)\", \"rgb(253,219,199)\", \"rgb(247,247,247)\", \"rgb(209,229,240)\", \"rgb(146,197,222)\", \"rgb(67,147,195)\", \"rgb(33,102,172)\", \"rgb(5,48,97)\"], \"template\": {\"data\": {\"bar\": [{\"error_x\": {\"color\": \"#2a3f5f\"}, \"error_y\": {\"color\": \"#2a3f5f\"}, \"marker\": {\"line\": {\"color\": \"#E5ECF6\", \"width\": 0.5}}, \"type\": \"bar\"}], \"barpolar\": [{\"marker\": {\"line\": {\"color\": \"#E5ECF6\", \"width\": 0.5}}, \"type\": \"barpolar\"}], \"carpet\": [{\"aaxis\": {\"endlinecolor\": \"#2a3f5f\", \"gridcolor\": \"white\", \"linecolor\": \"white\", \"minorgridcolor\": \"white\", \"startlinecolor\": \"#2a3f5f\"}, \"baxis\": {\"endlinecolor\": \"#2a3f5f\", \"gridcolor\": \"white\", \"linecolor\": \"white\", \"minorgridcolor\": \"white\", \"startlinecolor\": \"#2a3f5f\"}, \"type\": \"carpet\"}], \"choropleth\": [{\"colorbar\": {\"outlinewidth\": 0, \"ticks\": \"\"}, \"type\": \"choropleth\"}], \"contour\": [{\"colorbar\": {\"outlinewidth\": 0, \"ticks\": \"\"}, \"colorscale\": [[0.0, \"#0d0887\"], [0.1111111111111111, \"#46039f\"], [0.2222222222222222, \"#7201a8\"], [0.3333333333333333, \"#9c179e\"], [0.4444444444444444, \"#bd3786\"], [0.5555555555555556, \"#d8576b\"], [0.6666666666666666, \"#ed7953\"], [0.7777777777777778, \"#fb9f3a\"], [0.8888888888888888, \"#fdca26\"], [1.0, \"#f0f921\"]], \"type\": \"contour\"}], \"contourcarpet\": [{\"colorbar\": {\"outlinewidth\": 0, \"ticks\": \"\"}, \"type\": \"contourcarpet\"}], \"heatmap\": [{\"colorbar\": {\"outlinewidth\": 0, \"ticks\": \"\"}, \"colorscale\": [[0.0, \"#0d0887\"], [0.1111111111111111, \"#46039f\"], [0.2222222222222222, \"#7201a8\"], [0.3333333333333333, \"#9c179e\"], [0.4444444444444444, \"#bd3786\"], [0.5555555555555556, \"#d8576b\"], [0.6666666666666666, \"#ed7953\"], [0.7777777777777778, \"#fb9f3a\"], [0.8888888888888888, \"#fdca26\"], [1.0, \"#f0f921\"]], \"type\": \"heatmap\"}], \"heatmapgl\": [{\"colorbar\": {\"outlinewidth\": 0, \"ticks\": \"\"}, \"colorscale\": [[0.0, \"#0d0887\"], [0.1111111111111111, \"#46039f\"], [0.2222222222222222, \"#7201a8\"], [0.3333333333333333, \"#9c179e\"], [0.4444444444444444, \"#bd3786\"], [0.5555555555555556, \"#d8576b\"], [0.6666666666666666, \"#ed7953\"], [0.7777777777777778, \"#fb9f3a\"], [0.8888888888888888, \"#fdca26\"], [1.0, \"#f0f921\"]], \"type\": \"heatmapgl\"}], \"histogram\": [{\"marker\": {\"colorbar\": {\"outlinewidth\": 0, \"ticks\": \"\"}}, \"type\": \"histogram\"}], \"histogram2d\": [{\"colorbar\": {\"outlinewidth\": 0, \"ticks\": \"\"}, \"colorscale\": [[0.0, \"#0d0887\"], [0.1111111111111111, \"#46039f\"], [0.2222222222222222, \"#7201a8\"], [0.3333333333333333, \"#9c179e\"], [0.4444444444444444, \"#bd3786\"], [0.5555555555555556, \"#d8576b\"], [0.6666666666666666, \"#ed7953\"], [0.7777777777777778, \"#fb9f3a\"], [0.8888888888888888, \"#fdca26\"], [1.0, \"#f0f921\"]], \"type\": \"histogram2d\"}], \"histogram2dcontour\": [{\"colorbar\": {\"outlinewidth\": 0, \"ticks\": \"\"}, \"colorscale\": [[0.0, \"#0d0887\"], [0.1111111111111111, \"#46039f\"], [0.2222222222222222, \"#7201a8\"], [0.3333333333333333, \"#9c179e\"], [0.4444444444444444, \"#bd3786\"], [0.5555555555555556, \"#d8576b\"], [0.6666666666666666, \"#ed7953\"], [0.7777777777777778, \"#fb9f3a\"], [0.8888888888888888, \"#fdca26\"], [1.0, \"#f0f921\"]], \"type\": \"histogram2dcontour\"}], \"mesh3d\": [{\"colorbar\": {\"outlinewidth\": 0, \"ticks\": \"\"}, \"type\": \"mesh3d\"}], \"parcoords\": [{\"line\": {\"colorbar\": {\"outlinewidth\": 0, \"ticks\": \"\"}}, \"type\": \"parcoords\"}], \"pie\": [{\"automargin\": true, \"type\": \"pie\"}], \"scatter\": [{\"marker\": {\"colorbar\": {\"outlinewidth\": 0, \"ticks\": \"\"}}, \"type\": \"scatter\"}], \"scatter3d\": [{\"line\": {\"colorbar\": {\"outlinewidth\": 0, \"ticks\": \"\"}}, \"marker\": {\"colorbar\": {\"outlinewidth\": 0, \"ticks\": \"\"}}, \"type\": \"scatter3d\"}], \"scattercarpet\": [{\"marker\": {\"colorbar\": {\"outlinewidth\": 0, \"ticks\": \"\"}}, \"type\": \"scattercarpet\"}], \"scattergeo\": [{\"marker\": {\"colorbar\": {\"outlinewidth\": 0, \"ticks\": \"\"}}, \"type\": \"scattergeo\"}], \"scattergl\": [{\"marker\": {\"colorbar\": {\"outlinewidth\": 0, \"ticks\": \"\"}}, \"type\": \"scattergl\"}], \"scattermapbox\": [{\"marker\": {\"colorbar\": {\"outlinewidth\": 0, \"ticks\": \"\"}}, \"type\": \"scattermapbox\"}], \"scatterpolar\": [{\"marker\": {\"colorbar\": {\"outlinewidth\": 0, \"ticks\": \"\"}}, \"type\": \"scatterpolar\"}], \"scatterpolargl\": [{\"marker\": {\"colorbar\": {\"outlinewidth\": 0, \"ticks\": \"\"}}, \"type\": \"scatterpolargl\"}], \"scatterternary\": [{\"marker\": {\"colorbar\": {\"outlinewidth\": 0, \"ticks\": \"\"}}, \"type\": \"scatterternary\"}], \"surface\": [{\"colorbar\": {\"outlinewidth\": 0, \"ticks\": \"\"}, \"colorscale\": [[0.0, \"#0d0887\"], [0.1111111111111111, \"#46039f\"], [0.2222222222222222, \"#7201a8\"], [0.3333333333333333, \"#9c179e\"], [0.4444444444444444, \"#bd3786\"], [0.5555555555555556, \"#d8576b\"], [0.6666666666666666, \"#ed7953\"], [0.7777777777777778, \"#fb9f3a\"], [0.8888888888888888, \"#fdca26\"], [1.0, \"#f0f921\"]], \"type\": \"surface\"}], \"table\": [{\"cells\": {\"fill\": {\"color\": \"#EBF0F8\"}, \"line\": {\"color\": \"white\"}}, \"header\": {\"fill\": {\"color\": \"#C8D4E3\"}, \"line\": {\"color\": \"white\"}}, \"type\": \"table\"}]}, \"layout\": {\"annotationdefaults\": {\"arrowcolor\": \"#2a3f5f\", \"arrowhead\": 0, \"arrowwidth\": 1}, \"coloraxis\": {\"colorbar\": {\"outlinewidth\": 0, \"ticks\": \"\"}}, \"colorscale\": {\"diverging\": [[0, \"#8e0152\"], [0.1, \"#c51b7d\"], [0.2, \"#de77ae\"], [0.3, \"#f1b6da\"], [0.4, \"#fde0ef\"], [0.5, \"#f7f7f7\"], [0.6, \"#e6f5d0\"], [0.7, \"#b8e186\"], [0.8, \"#7fbc41\"], [0.9, \"#4d9221\"], [1, \"#276419\"]], \"sequential\": [[0.0, \"#0d0887\"], [0.1111111111111111, \"#46039f\"], [0.2222222222222222, \"#7201a8\"], [0.3333333333333333, \"#9c179e\"], [0.4444444444444444, \"#bd3786\"], [0.5555555555555556, \"#d8576b\"], [0.6666666666666666, \"#ed7953\"], [0.7777777777777778, \"#fb9f3a\"], [0.8888888888888888, \"#fdca26\"], [1.0, \"#f0f921\"]], \"sequentialminus\": [[0.0, \"#0d0887\"], [0.1111111111111111, \"#46039f\"], [0.2222222222222222, \"#7201a8\"], [0.3333333333333333, \"#9c179e\"], [0.4444444444444444, \"#bd3786\"], [0.5555555555555556, \"#d8576b\"], [0.6666666666666666, \"#ed7953\"], [0.7777777777777778, \"#fb9f3a\"], [0.8888888888888888, \"#fdca26\"], [1.0, \"#f0f921\"]]}, \"colorway\": [\"#636efa\", \"#EF553B\", \"#00cc96\", \"#ab63fa\", \"#FFA15A\", \"#19d3f3\", \"#FF6692\", \"#B6E880\", \"#FF97FF\", \"#FECB52\"], \"font\": {\"color\": \"#2a3f5f\"}, \"geo\": {\"bgcolor\": \"white\", \"lakecolor\": \"white\", \"landcolor\": \"#E5ECF6\", \"showlakes\": true, \"showland\": true, \"subunitcolor\": \"white\"}, \"hoverlabel\": {\"align\": \"left\"}, \"hovermode\": \"closest\", \"mapbox\": {\"style\": \"light\"}, \"paper_bgcolor\": \"white\", \"plot_bgcolor\": \"#E5ECF6\", \"polar\": {\"angularaxis\": {\"gridcolor\": \"white\", \"linecolor\": \"white\", \"ticks\": \"\"}, \"bgcolor\": \"#E5ECF6\", \"radialaxis\": {\"gridcolor\": \"white\", \"linecolor\": \"white\", \"ticks\": \"\"}}, \"scene\": {\"xaxis\": {\"backgroundcolor\": \"#E5ECF6\", \"gridcolor\": \"white\", \"gridwidth\": 2, \"linecolor\": \"white\", \"showbackground\": true, \"ticks\": \"\", \"zerolinecolor\": \"white\"}, \"yaxis\": {\"backgroundcolor\": \"#E5ECF6\", \"gridcolor\": \"white\", \"gridwidth\": 2, \"linecolor\": \"white\", \"showbackground\": true, \"ticks\": \"\", \"zerolinecolor\": \"white\"}, \"zaxis\": {\"backgroundcolor\": \"#E5ECF6\", \"gridcolor\": \"white\", \"gridwidth\": 2, \"linecolor\": \"white\", \"showbackground\": true, \"ticks\": \"\", \"zerolinecolor\": \"white\"}}, \"shapedefaults\": {\"line\": {\"color\": \"#2a3f5f\"}}, \"ternary\": {\"aaxis\": {\"gridcolor\": \"white\", \"linecolor\": \"white\", \"ticks\": \"\"}, \"baxis\": {\"gridcolor\": \"white\", \"linecolor\": \"white\", \"ticks\": \"\"}, \"bgcolor\": \"#E5ECF6\", \"caxis\": {\"gridcolor\": \"white\", \"linecolor\": \"white\", \"ticks\": \"\"}}, \"title\": {\"x\": 0.05}, \"xaxis\": {\"automargin\": true, \"gridcolor\": \"white\", \"linecolor\": \"white\", \"ticks\": \"\", \"title\": {\"standoff\": 15}, \"zerolinecolor\": \"white\", \"zerolinewidth\": 2}, \"yaxis\": {\"automargin\": true, \"gridcolor\": \"white\", \"linecolor\": \"white\", \"ticks\": \"\", \"title\": {\"standoff\": 15}, \"zerolinecolor\": \"white\", \"zerolinewidth\": 2}}}, \"title\": {\"text\": \"Part of the day that main category products are purchased the most\"}},\n",
              "                        {\"responsive\": true}\n",
              "                    ).then(function(){\n",
              "                            \n",
              "var gd = document.getElementById('367c74cc-8c16-4ebe-aa26-9a1982756355');\n",
              "var x = new MutationObserver(function (mutations, observer) {{\n",
              "        var display = window.getComputedStyle(gd).display;\n",
              "        if (!display || display === 'none') {{\n",
              "            console.log([gd, 'removed!']);\n",
              "            Plotly.purge(gd);\n",
              "            observer.disconnect();\n",
              "        }}\n",
              "}});\n",
              "\n",
              "// Listen for the removal of the full notebook cells\n",
              "var notebookContainer = gd.closest('#notebook-container');\n",
              "if (notebookContainer) {{\n",
              "    x.observe(notebookContainer, {childList: true});\n",
              "}}\n",
              "\n",
              "// Listen for the clearing of the current output cell\n",
              "var outputEl = gd.closest('.output');\n",
              "if (outputEl) {{\n",
              "    x.observe(outputEl, {childList: true});\n",
              "}}\n",
              "\n",
              "                        })\n",
              "                };\n",
              "                \n",
              "            </script>\n",
              "        </div>\n",
              "</body>\n",
              "</html>"
            ]
          },
          "metadata": {}
        }
      ]
    },
    {
      "cell_type": "code",
      "source": [
        "pd.set_option(\"display.max_rows\", 200)"
      ],
      "metadata": {
        "id": "JWb_Ri3pF6VG"
      },
      "execution_count": 9,
      "outputs": []
    },
    {
      "cell_type": "code",
      "source": [
        "category_by_daypart = df.groupby([\"DAYPART_DESC\", 'MAIN_CATEGORY_DESC'])['MAIN_CATEGORY_DESC'].count().to_frame()"
      ],
      "metadata": {
        "id": "oRNxdpQRFmor"
      },
      "execution_count": 10,
      "outputs": []
    },
    {
      "cell_type": "code",
      "source": [
        "category_by_daypart = category_by_daypart.rename(columns = {'MAIN_CATEGORY_DESC':'Cat_desc'})"
      ],
      "metadata": {
        "id": "tGbgu5TuKALP"
      },
      "execution_count": 11,
      "outputs": []
    },
    {
      "cell_type": "code",
      "source": [
        "category_by_daypart.reset_index(inplace=True)"
      ],
      "metadata": {
        "id": "HTj3tO2TLluM"
      },
      "execution_count": 12,
      "outputs": []
    },
    {
      "cell_type": "code",
      "source": [
        "fig = px.bar(category_by_daypart, x = 'DAYPART_DESC', y = 'Cat_desc', color = \n",
        "    'MAIN_CATEGORY_DESC', barmode = 'stack')\n",
        "fig.update_layout(title = \"Frequently purchased main category products based on the part of the day\",\n",
        "     xaxis_title = 'Dayparts', yaxis_title = 'Count of products', \n",
        "     width = 1000, height = 800)\n",
        "fig.show()"
      ],
      "metadata": {
        "id": "6BTbLq5wL3Mh",
        "colab": {
          "base_uri": "https://localhost:8080/",
          "height": 817
        },
        "outputId": "d2ea22f1-e831-4c1c-9ca4-40fac1807297"
      },
      "execution_count": 13,
      "outputs": [
        {
          "output_type": "display_data",
          "data": {
            "text/html": [
              "<html>\n",
              "<head><meta charset=\"utf-8\" /></head>\n",
              "<body>\n",
              "    <div>\n",
              "            <script src=\"https://cdnjs.cloudflare.com/ajax/libs/mathjax/2.7.5/MathJax.js?config=TeX-AMS-MML_SVG\"></script><script type=\"text/javascript\">if (window.MathJax) {MathJax.Hub.Config({SVG: {font: \"STIX-Web\"}});}</script>\n",
              "                <script type=\"text/javascript\">window.PlotlyConfig = {MathJaxConfig: 'local'};</script>\n",
              "        <script src=\"https://cdn.plot.ly/plotly-latest.min.js\"></script>    \n",
              "            <div id=\"19ce1a90-5d68-4644-a753-3bfef25af4db\" class=\"plotly-graph-div\" style=\"height:800px; width:1000px;\"></div>\n",
              "            <script type=\"text/javascript\">\n",
              "                \n",
              "                    window.PLOTLYENV=window.PLOTLYENV || {};\n",
              "                    \n",
              "                if (document.getElementById(\"19ce1a90-5d68-4644-a753-3bfef25af4db\")) {\n",
              "                    Plotly.newPlot(\n",
              "                        '19ce1a90-5d68-4644-a753-3bfef25af4db',\n",
              "                        [{\"alignmentgroup\": \"True\", \"hoverlabel\": {\"namelength\": 0}, \"hovertemplate\": \"MAIN_CATEGORY_DESC=Add On<br>DAYPART_DESC=%{x}<br>Cat_desc=%{y}\", \"legendgroup\": \"MAIN_CATEGORY_DESC=Add On\", \"marker\": {\"color\": \"#636efa\"}, \"name\": \"MAIN_CATEGORY_DESC=Add On\", \"offsetgroup\": \"MAIN_CATEGORY_DESC=Add On\", \"orientation\": \"v\", \"showlegend\": true, \"textposition\": \"auto\", \"type\": \"bar\", \"x\": [\"AM CHILL\", \"BREAKFAST\", \"DINNER\", \"LUNCH\", \"PM CHILL\"], \"xaxis\": \"x\", \"y\": [13, 6, 131, 117, 76], \"yaxis\": \"y\"}, {\"alignmentgroup\": \"True\", \"hoverlabel\": {\"namelength\": 0}, \"hovertemplate\": \"MAIN_CATEGORY_DESC=Baguettes, Demis, Rolls<br>DAYPART_DESC=%{x}<br>Cat_desc=%{y}\", \"legendgroup\": \"MAIN_CATEGORY_DESC=Baguettes, Demis, Rolls\", \"marker\": {\"color\": \"#EF553B\"}, \"name\": \"MAIN_CATEGORY_DESC=Baguettes, Demis, Rolls\", \"offsetgroup\": \"MAIN_CATEGORY_DESC=Baguettes, Demis, Rolls\", \"orientation\": \"v\", \"showlegend\": true, \"textposition\": \"auto\", \"type\": \"bar\", \"x\": [\"AM CHILL\", \"BREAKFAST\", \"DINNER\", \"LUNCH\", \"PM CHILL\"], \"xaxis\": \"x\", \"y\": [130, 90, 166, 226, 163], \"yaxis\": \"y\"}, {\"alignmentgroup\": \"True\", \"hoverlabel\": {\"namelength\": 0}, \"hovertemplate\": \"MAIN_CATEGORY_DESC=Bars, Cookies, Brownies<br>DAYPART_DESC=%{x}<br>Cat_desc=%{y}\", \"legendgroup\": \"MAIN_CATEGORY_DESC=Bars, Cookies, Brownies\", \"marker\": {\"color\": \"#00cc96\"}, \"name\": \"MAIN_CATEGORY_DESC=Bars, Cookies, Brownies\", \"offsetgroup\": \"MAIN_CATEGORY_DESC=Bars, Cookies, Brownies\", \"orientation\": \"v\", \"showlegend\": true, \"textposition\": \"auto\", \"type\": \"bar\", \"x\": [\"AM CHILL\", \"BREAKFAST\", \"DINNER\", \"LUNCH\", \"PM CHILL\"], \"xaxis\": \"x\", \"y\": [812, 332, 2453, 4303, 2230], \"yaxis\": \"y\"}, {\"alignmentgroup\": \"True\", \"hoverlabel\": {\"namelength\": 0}, \"hovertemplate\": \"MAIN_CATEGORY_DESC=Bowls<br>DAYPART_DESC=%{x}<br>Cat_desc=%{y}\", \"legendgroup\": \"MAIN_CATEGORY_DESC=Bowls\", \"marker\": {\"color\": \"#ab63fa\"}, \"name\": \"MAIN_CATEGORY_DESC=Bowls\", \"offsetgroup\": \"MAIN_CATEGORY_DESC=Bowls\", \"orientation\": \"v\", \"showlegend\": true, \"textposition\": \"auto\", \"type\": \"bar\", \"x\": [\"AM CHILL\", \"BREAKFAST\", \"DINNER\", \"LUNCH\", \"PM CHILL\"], \"xaxis\": \"x\", \"y\": [25, 9, 309, 322, 182], \"yaxis\": \"y\"}, {\"alignmentgroup\": \"True\", \"hoverlabel\": {\"namelength\": 0}, \"hovertemplate\": \"MAIN_CATEGORY_DESC=Breakfast Sandwiches<br>DAYPART_DESC=%{x}<br>Cat_desc=%{y}\", \"legendgroup\": \"MAIN_CATEGORY_DESC=Breakfast Sandwiches\", \"marker\": {\"color\": \"#FFA15A\"}, \"name\": \"MAIN_CATEGORY_DESC=Breakfast Sandwiches\", \"offsetgroup\": \"MAIN_CATEGORY_DESC=Breakfast Sandwiches\", \"orientation\": \"v\", \"showlegend\": true, \"textposition\": \"auto\", \"type\": \"bar\", \"x\": [\"AM CHILL\", \"BREAKFAST\", \"LUNCH\", \"PM CHILL\"], \"xaxis\": \"x\", \"y\": [2508, 2084, 27, 2], \"yaxis\": \"y\"}, {\"alignmentgroup\": \"True\", \"hoverlabel\": {\"namelength\": 0}, \"hovertemplate\": \"MAIN_CATEGORY_DESC=Bubbler and Fountain Drinks<br>DAYPART_DESC=%{x}<br>Cat_desc=%{y}\", \"legendgroup\": \"MAIN_CATEGORY_DESC=Bubbler and Fountain Drinks\", \"marker\": {\"color\": \"#19d3f3\"}, \"name\": \"MAIN_CATEGORY_DESC=Bubbler and Fountain Drinks\", \"offsetgroup\": \"MAIN_CATEGORY_DESC=Bubbler and Fountain Drinks\", \"orientation\": \"v\", \"showlegend\": true, \"textposition\": \"auto\", \"type\": \"bar\", \"x\": [\"AM CHILL\", \"BREAKFAST\", \"DINNER\", \"LUNCH\", \"PM CHILL\"], \"xaxis\": \"x\", \"y\": [850, 404, 2982, 6958, 2791], \"yaxis\": \"y\"}, {\"alignmentgroup\": \"True\", \"hoverlabel\": {\"namelength\": 0}, \"hovertemplate\": \"MAIN_CATEGORY_DESC=Bulk Bagels<br>DAYPART_DESC=%{x}<br>Cat_desc=%{y}\", \"legendgroup\": \"MAIN_CATEGORY_DESC=Bulk Bagels\", \"marker\": {\"color\": \"#FF6692\"}, \"name\": \"MAIN_CATEGORY_DESC=Bulk Bagels\", \"offsetgroup\": \"MAIN_CATEGORY_DESC=Bulk Bagels\", \"orientation\": \"v\", \"showlegend\": true, \"textposition\": \"auto\", \"type\": \"bar\", \"x\": [\"AM CHILL\", \"BREAKFAST\", \"DINNER\", \"LUNCH\", \"PM CHILL\"], \"xaxis\": \"x\", \"y\": [2247, 4697, 511, 1419, 730], \"yaxis\": \"y\"}, {\"alignmentgroup\": \"True\", \"hoverlabel\": {\"namelength\": 0}, \"hovertemplate\": \"MAIN_CATEGORY_DESC=Bulk Beverages<br>DAYPART_DESC=%{x}<br>Cat_desc=%{y}\", \"legendgroup\": \"MAIN_CATEGORY_DESC=Bulk Beverages\", \"marker\": {\"color\": \"#B6E880\"}, \"name\": \"MAIN_CATEGORY_DESC=Bulk Beverages\", \"offsetgroup\": \"MAIN_CATEGORY_DESC=Bulk Beverages\", \"orientation\": \"v\", \"showlegend\": true, \"textposition\": \"auto\", \"type\": \"bar\", \"x\": [\"AM CHILL\", \"BREAKFAST\", \"DINNER\", \"LUNCH\", \"PM CHILL\"], \"xaxis\": \"x\", \"y\": [20, 95, 1, 17, 6], \"yaxis\": \"y\"}, {\"alignmentgroup\": \"True\", \"hoverlabel\": {\"namelength\": 0}, \"hovertemplate\": \"MAIN_CATEGORY_DESC=Catering<br>DAYPART_DESC=%{x}<br>Cat_desc=%{y}\", \"legendgroup\": \"MAIN_CATEGORY_DESC=Catering\", \"marker\": {\"color\": \"#FF97FF\"}, \"name\": \"MAIN_CATEGORY_DESC=Catering\", \"offsetgroup\": \"MAIN_CATEGORY_DESC=Catering\", \"orientation\": \"v\", \"showlegend\": true, \"textposition\": \"auto\", \"type\": \"bar\", \"x\": [\"AM CHILL\", \"BREAKFAST\", \"DINNER\", \"LUNCH\", \"PM CHILL\"], \"xaxis\": \"x\", \"y\": [1965, 1118, 1255, 7776, 955], \"yaxis\": \"y\"}, {\"alignmentgroup\": \"True\", \"hoverlabel\": {\"namelength\": 0}, \"hovertemplate\": \"MAIN_CATEGORY_DESC=Coffee & Hot Tea<br>DAYPART_DESC=%{x}<br>Cat_desc=%{y}\", \"legendgroup\": \"MAIN_CATEGORY_DESC=Coffee & Hot Tea\", \"marker\": {\"color\": \"#FECB52\"}, \"name\": \"MAIN_CATEGORY_DESC=Coffee & Hot Tea\", \"offsetgroup\": \"MAIN_CATEGORY_DESC=Coffee & Hot Tea\", \"orientation\": \"v\", \"showlegend\": true, \"textposition\": \"auto\", \"type\": \"bar\", \"x\": [\"AM CHILL\", \"BREAKFAST\", \"DINNER\", \"LUNCH\", \"PM CHILL\"], \"xaxis\": \"x\", \"y\": [4229, 3847, 1617, 3860, 2296], \"yaxis\": \"y\"}, {\"alignmentgroup\": \"True\", \"hoverlabel\": {\"namelength\": 0}, \"hovertemplate\": \"MAIN_CATEGORY_DESC=Cream Cheese<br>DAYPART_DESC=%{x}<br>Cat_desc=%{y}\", \"legendgroup\": \"MAIN_CATEGORY_DESC=Cream Cheese\", \"marker\": {\"color\": \"#636efa\"}, \"name\": \"MAIN_CATEGORY_DESC=Cream Cheese\", \"offsetgroup\": \"MAIN_CATEGORY_DESC=Cream Cheese\", \"orientation\": \"v\", \"showlegend\": true, \"textposition\": \"auto\", \"type\": \"bar\", \"x\": [\"AM CHILL\", \"BREAKFAST\", \"DINNER\", \"LUNCH\", \"PM CHILL\"], \"xaxis\": \"x\", \"y\": [1182, 950, 234, 738, 269], \"yaxis\": \"y\"}, {\"alignmentgroup\": \"True\", \"hoverlabel\": {\"namelength\": 0}, \"hovertemplate\": \"MAIN_CATEGORY_DESC=Cream Cheese Tubs<br>DAYPART_DESC=%{x}<br>Cat_desc=%{y}\", \"legendgroup\": \"MAIN_CATEGORY_DESC=Cream Cheese Tubs\", \"marker\": {\"color\": \"#EF553B\"}, \"name\": \"MAIN_CATEGORY_DESC=Cream Cheese Tubs\", \"offsetgroup\": \"MAIN_CATEGORY_DESC=Cream Cheese Tubs\", \"orientation\": \"v\", \"showlegend\": true, \"textposition\": \"auto\", \"type\": \"bar\", \"x\": [\"AM CHILL\", \"BREAKFAST\", \"DINNER\", \"LUNCH\", \"PM CHILL\"], \"xaxis\": \"x\", \"y\": [326, 874, 116, 208, 138], \"yaxis\": \"y\"}, {\"alignmentgroup\": \"True\", \"hoverlabel\": {\"namelength\": 0}, \"hovertemplate\": \"MAIN_CATEGORY_DESC=Descriptors<br>DAYPART_DESC=%{x}<br>Cat_desc=%{y}\", \"legendgroup\": \"MAIN_CATEGORY_DESC=Descriptors\", \"marker\": {\"color\": \"#00cc96\"}, \"name\": \"MAIN_CATEGORY_DESC=Descriptors\", \"offsetgroup\": \"MAIN_CATEGORY_DESC=Descriptors\", \"orientation\": \"v\", \"showlegend\": true, \"textposition\": \"auto\", \"type\": \"bar\", \"x\": [\"AM CHILL\", \"BREAKFAST\", \"DINNER\", \"LUNCH\", \"PM CHILL\"], \"xaxis\": \"x\", \"y\": [758, 728, 361, 742, 388], \"yaxis\": \"y\"}, {\"alignmentgroup\": \"True\", \"hoverlabel\": {\"namelength\": 0}, \"hovertemplate\": \"MAIN_CATEGORY_DESC=Espresso Beverages<br>DAYPART_DESC=%{x}<br>Cat_desc=%{y}\", \"legendgroup\": \"MAIN_CATEGORY_DESC=Espresso Beverages\", \"marker\": {\"color\": \"#ab63fa\"}, \"name\": \"MAIN_CATEGORY_DESC=Espresso Beverages\", \"offsetgroup\": \"MAIN_CATEGORY_DESC=Espresso Beverages\", \"orientation\": \"v\", \"showlegend\": true, \"textposition\": \"auto\", \"type\": \"bar\", \"x\": [\"AM CHILL\", \"BREAKFAST\", \"DINNER\", \"LUNCH\", \"PM CHILL\"], \"xaxis\": \"x\", \"y\": [536, 361, 171, 475, 238], \"yaxis\": \"y\"}, {\"alignmentgroup\": \"True\", \"hoverlabel\": {\"namelength\": 0}, \"hovertemplate\": \"MAIN_CATEGORY_DESC=Extras & Miscellaneous<br>DAYPART_DESC=%{x}<br>Cat_desc=%{y}\", \"legendgroup\": \"MAIN_CATEGORY_DESC=Extras & Miscellaneous\", \"marker\": {\"color\": \"#FFA15A\"}, \"name\": \"MAIN_CATEGORY_DESC=Extras & Miscellaneous\", \"offsetgroup\": \"MAIN_CATEGORY_DESC=Extras & Miscellaneous\", \"orientation\": \"v\", \"showlegend\": true, \"textposition\": \"auto\", \"type\": \"bar\", \"x\": [\"AM CHILL\", \"BREAKFAST\", \"DINNER\", \"LUNCH\", \"PM CHILL\"], \"xaxis\": \"x\", \"y\": [11, 3, 71, 94, 40], \"yaxis\": \"y\"}, {\"alignmentgroup\": \"True\", \"hoverlabel\": {\"namelength\": 0}, \"hovertemplate\": \"MAIN_CATEGORY_DESC=Extras & Side Choices<br>DAYPART_DESC=%{x}<br>Cat_desc=%{y}\", \"legendgroup\": \"MAIN_CATEGORY_DESC=Extras & Side Choices\", \"marker\": {\"color\": \"#19d3f3\"}, \"name\": \"MAIN_CATEGORY_DESC=Extras & Side Choices\", \"offsetgroup\": \"MAIN_CATEGORY_DESC=Extras & Side Choices\", \"orientation\": \"v\", \"showlegend\": true, \"textposition\": \"auto\", \"type\": \"bar\", \"x\": [\"AM CHILL\", \"BREAKFAST\", \"DINNER\", \"LUNCH\", \"PM CHILL\"], \"xaxis\": \"x\", \"y\": [27334, 20261, 80796, 120519, 55472], \"yaxis\": \"y\"}, {\"alignmentgroup\": \"True\", \"hoverlabel\": {\"namelength\": 0}, \"hovertemplate\": \"MAIN_CATEGORY_DESC=Family Feast<br>DAYPART_DESC=%{x}<br>Cat_desc=%{y}\", \"legendgroup\": \"MAIN_CATEGORY_DESC=Family Feast\", \"marker\": {\"color\": \"#FF6692\"}, \"name\": \"MAIN_CATEGORY_DESC=Family Feast\", \"offsetgroup\": \"MAIN_CATEGORY_DESC=Family Feast\", \"orientation\": \"v\", \"showlegend\": true, \"textposition\": \"auto\", \"type\": \"bar\", \"x\": [\"AM CHILL\", \"BREAKFAST\", \"DINNER\", \"LUNCH\", \"PM CHILL\"], \"xaxis\": \"x\", \"y\": [197, 16, 1795, 1056, 932], \"yaxis\": \"y\"}, {\"alignmentgroup\": \"True\", \"hoverlabel\": {\"namelength\": 0}, \"hovertemplate\": \"MAIN_CATEGORY_DESC=Frozen Drinks & Smoothies<br>DAYPART_DESC=%{x}<br>Cat_desc=%{y}\", \"legendgroup\": \"MAIN_CATEGORY_DESC=Frozen Drinks & Smoothies\", \"marker\": {\"color\": \"#B6E880\"}, \"name\": \"MAIN_CATEGORY_DESC=Frozen Drinks & Smoothies\", \"offsetgroup\": \"MAIN_CATEGORY_DESC=Frozen Drinks & Smoothies\", \"orientation\": \"v\", \"showlegend\": true, \"textposition\": \"auto\", \"type\": \"bar\", \"x\": [\"AM CHILL\", \"BREAKFAST\", \"DINNER\", \"LUNCH\", \"PM CHILL\"], \"xaxis\": \"x\", \"y\": [298, 161, 661, 972, 637], \"yaxis\": \"y\"}, {\"alignmentgroup\": \"True\", \"hoverlabel\": {\"namelength\": 0}, \"hovertemplate\": \"MAIN_CATEGORY_DESC=Individual Bagels<br>DAYPART_DESC=%{x}<br>Cat_desc=%{y}\", \"legendgroup\": \"MAIN_CATEGORY_DESC=Individual Bagels\", \"marker\": {\"color\": \"#FF97FF\"}, \"name\": \"MAIN_CATEGORY_DESC=Individual Bagels\", \"offsetgroup\": \"MAIN_CATEGORY_DESC=Individual Bagels\", \"orientation\": \"v\", \"showlegend\": true, \"textposition\": \"auto\", \"type\": \"bar\", \"x\": [\"AM CHILL\", \"BREAKFAST\", \"DINNER\", \"LUNCH\", \"PM CHILL\"], \"xaxis\": \"x\", \"y\": [4462, 3999, 1277, 3593, 1855], \"yaxis\": \"y\"}, {\"alignmentgroup\": \"True\", \"hoverlabel\": {\"namelength\": 0}, \"hovertemplate\": \"MAIN_CATEGORY_DESC=Juice, Bottled Drinks, Milk<br>DAYPART_DESC=%{x}<br>Cat_desc=%{y}\", \"legendgroup\": \"MAIN_CATEGORY_DESC=Juice, Bottled Drinks, Milk\", \"marker\": {\"color\": \"#FECB52\"}, \"name\": \"MAIN_CATEGORY_DESC=Juice, Bottled Drinks, Milk\", \"offsetgroup\": \"MAIN_CATEGORY_DESC=Juice, Bottled Drinks, Milk\", \"orientation\": \"v\", \"showlegend\": true, \"textposition\": \"auto\", \"type\": \"bar\", \"x\": [\"AM CHILL\", \"BREAKFAST\", \"DINNER\", \"LUNCH\", \"PM CHILL\"], \"xaxis\": \"x\", \"y\": [211, 118, 257, 662, 248], \"yaxis\": \"y\"}, {\"alignmentgroup\": \"True\", \"hoverlabel\": {\"namelength\": 0}, \"hovertemplate\": \"MAIN_CATEGORY_DESC=Kids<br>DAYPART_DESC=%{x}<br>Cat_desc=%{y}\", \"legendgroup\": \"MAIN_CATEGORY_DESC=Kids\", \"marker\": {\"color\": \"#636efa\"}, \"name\": \"MAIN_CATEGORY_DESC=Kids\", \"offsetgroup\": \"MAIN_CATEGORY_DESC=Kids\", \"orientation\": \"v\", \"showlegend\": true, \"textposition\": \"auto\", \"type\": \"bar\", \"x\": [\"AM CHILL\", \"BREAKFAST\", \"DINNER\", \"LUNCH\", \"PM CHILL\"], \"xaxis\": \"x\", \"y\": [65, 9, 661, 754, 330], \"yaxis\": \"y\"}, {\"alignmentgroup\": \"True\", \"hoverlabel\": {\"namelength\": 0}, \"hovertemplate\": \"MAIN_CATEGORY_DESC=Loaves & Miche<br>DAYPART_DESC=%{x}<br>Cat_desc=%{y}\", \"legendgroup\": \"MAIN_CATEGORY_DESC=Loaves & Miche\", \"marker\": {\"color\": \"#EF553B\"}, \"name\": \"MAIN_CATEGORY_DESC=Loaves & Miche\", \"offsetgroup\": \"MAIN_CATEGORY_DESC=Loaves & Miche\", \"orientation\": \"v\", \"showlegend\": true, \"textposition\": \"auto\", \"type\": \"bar\", \"x\": [\"AM CHILL\", \"BREAKFAST\", \"DINNER\", \"LUNCH\", \"PM CHILL\"], \"xaxis\": \"x\", \"y\": [331, 173, 213, 446, 304], \"yaxis\": \"y\"}, {\"alignmentgroup\": \"True\", \"hoverlabel\": {\"namelength\": 0}, \"hovertemplate\": \"MAIN_CATEGORY_DESC=Merchandise<br>DAYPART_DESC=%{x}<br>Cat_desc=%{y}\", \"legendgroup\": \"MAIN_CATEGORY_DESC=Merchandise\", \"marker\": {\"color\": \"#00cc96\"}, \"name\": \"MAIN_CATEGORY_DESC=Merchandise\", \"offsetgroup\": \"MAIN_CATEGORY_DESC=Merchandise\", \"orientation\": \"v\", \"showlegend\": true, \"textposition\": \"auto\", \"type\": \"bar\", \"x\": [\"AM CHILL\", \"BREAKFAST\", \"DINNER\", \"LUNCH\", \"PM CHILL\"], \"xaxis\": \"x\", \"y\": [15, 17, 24, 31, 25], \"yaxis\": \"y\"}, {\"alignmentgroup\": \"True\", \"hoverlabel\": {\"namelength\": 0}, \"hovertemplate\": \"MAIN_CATEGORY_DESC=Muffins & Muffies<br>DAYPART_DESC=%{x}<br>Cat_desc=%{y}\", \"legendgroup\": \"MAIN_CATEGORY_DESC=Muffins & Muffies\", \"marker\": {\"color\": \"#ab63fa\"}, \"name\": \"MAIN_CATEGORY_DESC=Muffins & Muffies\", \"offsetgroup\": \"MAIN_CATEGORY_DESC=Muffins & Muffies\", \"orientation\": \"v\", \"showlegend\": true, \"textposition\": \"auto\", \"type\": \"bar\", \"x\": [\"AM CHILL\", \"BREAKFAST\", \"DINNER\", \"LUNCH\", \"PM CHILL\"], \"xaxis\": \"x\", \"y\": [954, 910, 494, 1063, 595], \"yaxis\": \"y\"}, {\"alignmentgroup\": \"True\", \"hoverlabel\": {\"namelength\": 0}, \"hovertemplate\": \"MAIN_CATEGORY_DESC=No History<br>DAYPART_DESC=%{x}<br>Cat_desc=%{y}\", \"legendgroup\": \"MAIN_CATEGORY_DESC=No History\", \"marker\": {\"color\": \"#FFA15A\"}, \"name\": \"MAIN_CATEGORY_DESC=No History\", \"offsetgroup\": \"MAIN_CATEGORY_DESC=No History\", \"orientation\": \"v\", \"showlegend\": true, \"textposition\": \"auto\", \"type\": \"bar\", \"x\": [\"AM CHILL\", \"BREAKFAST\", \"DINNER\", \"LUNCH\", \"PM CHILL\"], \"xaxis\": \"x\", \"y\": [3167, 2983, 7251, 11020, 5029], \"yaxis\": \"y\"}, {\"alignmentgroup\": \"True\", \"hoverlabel\": {\"namelength\": 0}, \"hovertemplate\": \"MAIN_CATEGORY_DESC=Panera Grocery<br>DAYPART_DESC=%{x}<br>Cat_desc=%{y}\", \"legendgroup\": \"MAIN_CATEGORY_DESC=Panera Grocery\", \"marker\": {\"color\": \"#19d3f3\"}, \"name\": \"MAIN_CATEGORY_DESC=Panera Grocery\", \"offsetgroup\": \"MAIN_CATEGORY_DESC=Panera Grocery\", \"orientation\": \"v\", \"showlegend\": true, \"textposition\": \"auto\", \"type\": \"bar\", \"x\": [\"AM CHILL\", \"BREAKFAST\", \"DINNER\", \"LUNCH\", \"PM CHILL\"], \"xaxis\": \"x\", \"y\": [4, 3, 4, 5, 3], \"yaxis\": \"y\"}, {\"alignmentgroup\": \"True\", \"hoverlabel\": {\"namelength\": 0}, \"hovertemplate\": \"MAIN_CATEGORY_DESC=Parfait, Fruit, Cereal<br>DAYPART_DESC=%{x}<br>Cat_desc=%{y}\", \"legendgroup\": \"MAIN_CATEGORY_DESC=Parfait, Fruit, Cereal\", \"marker\": {\"color\": \"#FF6692\"}, \"name\": \"MAIN_CATEGORY_DESC=Parfait, Fruit, Cereal\", \"offsetgroup\": \"MAIN_CATEGORY_DESC=Parfait, Fruit, Cereal\", \"orientation\": \"v\", \"showlegend\": true, \"textposition\": \"auto\", \"type\": \"bar\", \"x\": [\"AM CHILL\", \"BREAKFAST\", \"DINNER\", \"LUNCH\", \"PM CHILL\"], \"xaxis\": \"x\", \"y\": [374, 393, 49, 180, 78], \"yaxis\": \"y\"}, {\"alignmentgroup\": \"True\", \"hoverlabel\": {\"namelength\": 0}, \"hovertemplate\": \"MAIN_CATEGORY_DESC=Pasta<br>DAYPART_DESC=%{x}<br>Cat_desc=%{y}\", \"legendgroup\": \"MAIN_CATEGORY_DESC=Pasta\", \"marker\": {\"color\": \"#B6E880\"}, \"name\": \"MAIN_CATEGORY_DESC=Pasta\", \"offsetgroup\": \"MAIN_CATEGORY_DESC=Pasta\", \"orientation\": \"v\", \"showlegend\": true, \"textposition\": \"auto\", \"type\": \"bar\", \"x\": [\"AM CHILL\", \"BREAKFAST\", \"DINNER\", \"LUNCH\", \"PM CHILL\"], \"xaxis\": \"x\", \"y\": [100, 24, 1175, 953, 599], \"yaxis\": \"y\"}, {\"alignmentgroup\": \"True\", \"hoverlabel\": {\"namelength\": 0}, \"hovertemplate\": \"MAIN_CATEGORY_DESC=Pastries<br>DAYPART_DESC=%{x}<br>Cat_desc=%{y}\", \"legendgroup\": \"MAIN_CATEGORY_DESC=Pastries\", \"marker\": {\"color\": \"#FF97FF\"}, \"name\": \"MAIN_CATEGORY_DESC=Pastries\", \"offsetgroup\": \"MAIN_CATEGORY_DESC=Pastries\", \"orientation\": \"v\", \"showlegend\": true, \"textposition\": \"auto\", \"type\": \"bar\", \"x\": [\"AM CHILL\", \"BREAKFAST\", \"DINNER\", \"LUNCH\", \"PM CHILL\"], \"xaxis\": \"x\", \"y\": [1646, 1317, 1236, 2598, 1362], \"yaxis\": \"y\"}, {\"alignmentgroup\": \"True\", \"hoverlabel\": {\"namelength\": 0}, \"hovertemplate\": \"MAIN_CATEGORY_DESC=Salads<br>DAYPART_DESC=%{x}<br>Cat_desc=%{y}\", \"legendgroup\": \"MAIN_CATEGORY_DESC=Salads\", \"marker\": {\"color\": \"#FECB52\"}, \"name\": \"MAIN_CATEGORY_DESC=Salads\", \"offsetgroup\": \"MAIN_CATEGORY_DESC=Salads\", \"orientation\": \"v\", \"showlegend\": true, \"textposition\": \"auto\", \"type\": \"bar\", \"x\": [\"AM CHILL\", \"BREAKFAST\", \"DINNER\", \"LUNCH\", \"PM CHILL\"], \"xaxis\": \"x\", \"y\": [667, 153, 4275, 6025, 2847], \"yaxis\": \"y\"}, {\"alignmentgroup\": \"True\", \"hoverlabel\": {\"namelength\": 0}, \"hovertemplate\": \"MAIN_CATEGORY_DESC=Sandwiches<br>DAYPART_DESC=%{x}<br>Cat_desc=%{y}\", \"legendgroup\": \"MAIN_CATEGORY_DESC=Sandwiches\", \"marker\": {\"color\": \"#636efa\"}, \"name\": \"MAIN_CATEGORY_DESC=Sandwiches\", \"offsetgroup\": \"MAIN_CATEGORY_DESC=Sandwiches\", \"orientation\": \"v\", \"showlegend\": true, \"textposition\": \"auto\", \"type\": \"bar\", \"x\": [\"AM CHILL\", \"BREAKFAST\", \"DINNER\", \"LUNCH\", \"PM CHILL\"], \"xaxis\": \"x\", \"y\": [855, 125, 4755, 6937, 3383], \"yaxis\": \"y\"}, {\"alignmentgroup\": \"True\", \"hoverlabel\": {\"namelength\": 0}, \"hovertemplate\": \"MAIN_CATEGORY_DESC=Scones<br>DAYPART_DESC=%{x}<br>Cat_desc=%{y}\", \"legendgroup\": \"MAIN_CATEGORY_DESC=Scones\", \"marker\": {\"color\": \"#EF553B\"}, \"name\": \"MAIN_CATEGORY_DESC=Scones\", \"offsetgroup\": \"MAIN_CATEGORY_DESC=Scones\", \"orientation\": \"v\", \"showlegend\": true, \"textposition\": \"auto\", \"type\": \"bar\", \"x\": [\"AM CHILL\", \"BREAKFAST\", \"DINNER\", \"LUNCH\", \"PM CHILL\"], \"xaxis\": \"x\", \"y\": [498, 390, 245, 703, 329], \"yaxis\": \"y\"}, {\"alignmentgroup\": \"True\", \"hoverlabel\": {\"namelength\": 0}, \"hovertemplate\": \"MAIN_CATEGORY_DESC=Souffles<br>DAYPART_DESC=%{x}<br>Cat_desc=%{y}\", \"legendgroup\": \"MAIN_CATEGORY_DESC=Souffles\", \"marker\": {\"color\": \"#00cc96\"}, \"name\": \"MAIN_CATEGORY_DESC=Souffles\", \"offsetgroup\": \"MAIN_CATEGORY_DESC=Souffles\", \"orientation\": \"v\", \"showlegend\": true, \"textposition\": \"auto\", \"type\": \"bar\", \"x\": [\"AM CHILL\", \"BREAKFAST\", \"LUNCH\", \"PM CHILL\"], \"xaxis\": \"x\", \"y\": [922, 886, 51, 1], \"yaxis\": \"y\"}, {\"alignmentgroup\": \"True\", \"hoverlabel\": {\"namelength\": 0}, \"hovertemplate\": \"MAIN_CATEGORY_DESC=Soup<br>DAYPART_DESC=%{x}<br>Cat_desc=%{y}\", \"legendgroup\": \"MAIN_CATEGORY_DESC=Soup\", \"marker\": {\"color\": \"#ab63fa\"}, \"name\": \"MAIN_CATEGORY_DESC=Soup\", \"offsetgroup\": \"MAIN_CATEGORY_DESC=Soup\", \"orientation\": \"v\", \"showlegend\": true, \"textposition\": \"auto\", \"type\": \"bar\", \"x\": [\"AM CHILL\", \"BREAKFAST\", \"DINNER\", \"LUNCH\", \"PM CHILL\"], \"xaxis\": \"x\", \"y\": [383, 7, 3670, 4284, 2311], \"yaxis\": \"y\"}, {\"alignmentgroup\": \"True\", \"hoverlabel\": {\"namelength\": 0}, \"hovertemplate\": \"MAIN_CATEGORY_DESC=Sweet Goods Gifting<br>DAYPART_DESC=%{x}<br>Cat_desc=%{y}\", \"legendgroup\": \"MAIN_CATEGORY_DESC=Sweet Goods Gifting\", \"marker\": {\"color\": \"#FFA15A\"}, \"name\": \"MAIN_CATEGORY_DESC=Sweet Goods Gifting\", \"offsetgroup\": \"MAIN_CATEGORY_DESC=Sweet Goods Gifting\", \"orientation\": \"v\", \"showlegend\": true, \"textposition\": \"auto\", \"type\": \"bar\", \"x\": [\"AM CHILL\", \"BREAKFAST\", \"DINNER\", \"LUNCH\", \"PM CHILL\"], \"xaxis\": \"x\", \"y\": [280, 256, 280, 468, 279], \"yaxis\": \"y\"}, {\"alignmentgroup\": \"True\", \"hoverlabel\": {\"namelength\": 0}, \"hovertemplate\": \"MAIN_CATEGORY_DESC=Take Home Soup<br>DAYPART_DESC=%{x}<br>Cat_desc=%{y}\", \"legendgroup\": \"MAIN_CATEGORY_DESC=Take Home Soup\", \"marker\": {\"color\": \"#19d3f3\"}, \"name\": \"MAIN_CATEGORY_DESC=Take Home Soup\", \"offsetgroup\": \"MAIN_CATEGORY_DESC=Take Home Soup\", \"orientation\": \"v\", \"showlegend\": true, \"textposition\": \"auto\", \"type\": \"bar\", \"x\": [\"AM CHILL\", \"DINNER\", \"LUNCH\", \"PM CHILL\"], \"xaxis\": \"x\", \"y\": [20, 131, 116, 106], \"yaxis\": \"y\"}, {\"alignmentgroup\": \"True\", \"hoverlabel\": {\"namelength\": 0}, \"hovertemplate\": \"MAIN_CATEGORY_DESC=U Pick 2<br>DAYPART_DESC=%{x}<br>Cat_desc=%{y}\", \"legendgroup\": \"MAIN_CATEGORY_DESC=U Pick 2\", \"marker\": {\"color\": \"#FF6692\"}, \"name\": \"MAIN_CATEGORY_DESC=U Pick 2\", \"offsetgroup\": \"MAIN_CATEGORY_DESC=U Pick 2\", \"orientation\": \"v\", \"showlegend\": true, \"textposition\": \"auto\", \"type\": \"bar\", \"x\": [\"AM CHILL\", \"BREAKFAST\", \"DINNER\", \"LUNCH\", \"PM CHILL\"], \"xaxis\": \"x\", \"y\": [2439, 174, 25241, 39978, 15624], \"yaxis\": \"y\"}, {\"alignmentgroup\": \"True\", \"hoverlabel\": {\"namelength\": 0}, \"hovertemplate\": \"MAIN_CATEGORY_DESC=Unassigned<br>DAYPART_DESC=%{x}<br>Cat_desc=%{y}\", \"legendgroup\": \"MAIN_CATEGORY_DESC=Unassigned\", \"marker\": {\"color\": \"#B6E880\"}, \"name\": \"MAIN_CATEGORY_DESC=Unassigned\", \"offsetgroup\": \"MAIN_CATEGORY_DESC=Unassigned\", \"orientation\": \"v\", \"showlegend\": true, \"textposition\": \"auto\", \"type\": \"bar\", \"x\": [\"AM CHILL\", \"DINNER\", \"LUNCH\", \"PM CHILL\"], \"xaxis\": \"x\", \"y\": [1, 1, 6, 6], \"yaxis\": \"y\"}, {\"alignmentgroup\": \"True\", \"hoverlabel\": {\"namelength\": 0}, \"hovertemplate\": \"MAIN_CATEGORY_DESC=Other Bakery<br>DAYPART_DESC=%{x}<br>Cat_desc=%{y}\", \"legendgroup\": \"MAIN_CATEGORY_DESC=Other Bakery\", \"marker\": {\"color\": \"#FF97FF\"}, \"name\": \"MAIN_CATEGORY_DESC=Other Bakery\", \"offsetgroup\": \"MAIN_CATEGORY_DESC=Other Bakery\", \"orientation\": \"v\", \"showlegend\": true, \"textposition\": \"auto\", \"type\": \"bar\", \"x\": [\"BREAKFAST\", \"DINNER\", \"LUNCH\", \"PM CHILL\"], \"xaxis\": \"x\", \"y\": [1, 20, 50, 22], \"yaxis\": \"y\"}],\n",
              "                        {\"barmode\": \"stack\", \"height\": 800, \"legend\": {\"tracegroupgap\": 0}, \"margin\": {\"t\": 60}, \"template\": {\"data\": {\"bar\": [{\"error_x\": {\"color\": \"#2a3f5f\"}, \"error_y\": {\"color\": \"#2a3f5f\"}, \"marker\": {\"line\": {\"color\": \"#E5ECF6\", \"width\": 0.5}}, \"type\": \"bar\"}], \"barpolar\": [{\"marker\": {\"line\": {\"color\": \"#E5ECF6\", \"width\": 0.5}}, \"type\": \"barpolar\"}], \"carpet\": [{\"aaxis\": {\"endlinecolor\": \"#2a3f5f\", \"gridcolor\": \"white\", \"linecolor\": \"white\", \"minorgridcolor\": \"white\", \"startlinecolor\": \"#2a3f5f\"}, \"baxis\": {\"endlinecolor\": \"#2a3f5f\", \"gridcolor\": \"white\", \"linecolor\": \"white\", \"minorgridcolor\": \"white\", \"startlinecolor\": \"#2a3f5f\"}, \"type\": \"carpet\"}], \"choropleth\": [{\"colorbar\": {\"outlinewidth\": 0, \"ticks\": \"\"}, \"type\": \"choropleth\"}], \"contour\": [{\"colorbar\": {\"outlinewidth\": 0, \"ticks\": \"\"}, \"colorscale\": [[0.0, \"#0d0887\"], [0.1111111111111111, \"#46039f\"], [0.2222222222222222, \"#7201a8\"], [0.3333333333333333, \"#9c179e\"], [0.4444444444444444, \"#bd3786\"], [0.5555555555555556, \"#d8576b\"], [0.6666666666666666, \"#ed7953\"], [0.7777777777777778, \"#fb9f3a\"], [0.8888888888888888, \"#fdca26\"], [1.0, \"#f0f921\"]], \"type\": \"contour\"}], \"contourcarpet\": [{\"colorbar\": {\"outlinewidth\": 0, \"ticks\": \"\"}, \"type\": \"contourcarpet\"}], \"heatmap\": [{\"colorbar\": {\"outlinewidth\": 0, \"ticks\": \"\"}, \"colorscale\": [[0.0, \"#0d0887\"], [0.1111111111111111, \"#46039f\"], [0.2222222222222222, \"#7201a8\"], [0.3333333333333333, \"#9c179e\"], [0.4444444444444444, \"#bd3786\"], [0.5555555555555556, \"#d8576b\"], [0.6666666666666666, \"#ed7953\"], [0.7777777777777778, \"#fb9f3a\"], [0.8888888888888888, \"#fdca26\"], [1.0, \"#f0f921\"]], \"type\": \"heatmap\"}], \"heatmapgl\": [{\"colorbar\": {\"outlinewidth\": 0, \"ticks\": \"\"}, \"colorscale\": [[0.0, \"#0d0887\"], [0.1111111111111111, \"#46039f\"], [0.2222222222222222, \"#7201a8\"], [0.3333333333333333, \"#9c179e\"], [0.4444444444444444, \"#bd3786\"], [0.5555555555555556, \"#d8576b\"], [0.6666666666666666, \"#ed7953\"], [0.7777777777777778, \"#fb9f3a\"], [0.8888888888888888, \"#fdca26\"], [1.0, \"#f0f921\"]], \"type\": \"heatmapgl\"}], \"histogram\": [{\"marker\": {\"colorbar\": {\"outlinewidth\": 0, \"ticks\": \"\"}}, \"type\": \"histogram\"}], \"histogram2d\": [{\"colorbar\": {\"outlinewidth\": 0, \"ticks\": \"\"}, \"colorscale\": [[0.0, \"#0d0887\"], [0.1111111111111111, \"#46039f\"], [0.2222222222222222, \"#7201a8\"], [0.3333333333333333, \"#9c179e\"], [0.4444444444444444, \"#bd3786\"], [0.5555555555555556, \"#d8576b\"], [0.6666666666666666, \"#ed7953\"], [0.7777777777777778, \"#fb9f3a\"], [0.8888888888888888, \"#fdca26\"], [1.0, \"#f0f921\"]], \"type\": \"histogram2d\"}], \"histogram2dcontour\": [{\"colorbar\": {\"outlinewidth\": 0, \"ticks\": \"\"}, \"colorscale\": [[0.0, \"#0d0887\"], [0.1111111111111111, \"#46039f\"], [0.2222222222222222, \"#7201a8\"], [0.3333333333333333, \"#9c179e\"], [0.4444444444444444, \"#bd3786\"], [0.5555555555555556, \"#d8576b\"], [0.6666666666666666, \"#ed7953\"], [0.7777777777777778, \"#fb9f3a\"], [0.8888888888888888, \"#fdca26\"], [1.0, \"#f0f921\"]], \"type\": \"histogram2dcontour\"}], \"mesh3d\": [{\"colorbar\": {\"outlinewidth\": 0, \"ticks\": \"\"}, \"type\": \"mesh3d\"}], \"parcoords\": [{\"line\": {\"colorbar\": {\"outlinewidth\": 0, \"ticks\": \"\"}}, \"type\": \"parcoords\"}], \"pie\": [{\"automargin\": true, \"type\": \"pie\"}], \"scatter\": [{\"marker\": {\"colorbar\": {\"outlinewidth\": 0, \"ticks\": \"\"}}, \"type\": \"scatter\"}], \"scatter3d\": [{\"line\": {\"colorbar\": {\"outlinewidth\": 0, \"ticks\": \"\"}}, \"marker\": {\"colorbar\": {\"outlinewidth\": 0, \"ticks\": \"\"}}, \"type\": \"scatter3d\"}], \"scattercarpet\": [{\"marker\": {\"colorbar\": {\"outlinewidth\": 0, \"ticks\": \"\"}}, \"type\": \"scattercarpet\"}], \"scattergeo\": [{\"marker\": {\"colorbar\": {\"outlinewidth\": 0, \"ticks\": \"\"}}, \"type\": \"scattergeo\"}], \"scattergl\": [{\"marker\": {\"colorbar\": {\"outlinewidth\": 0, \"ticks\": \"\"}}, \"type\": \"scattergl\"}], \"scattermapbox\": [{\"marker\": {\"colorbar\": {\"outlinewidth\": 0, \"ticks\": \"\"}}, \"type\": \"scattermapbox\"}], \"scatterpolar\": [{\"marker\": {\"colorbar\": {\"outlinewidth\": 0, \"ticks\": \"\"}}, \"type\": \"scatterpolar\"}], \"scatterpolargl\": [{\"marker\": {\"colorbar\": {\"outlinewidth\": 0, \"ticks\": \"\"}}, \"type\": \"scatterpolargl\"}], \"scatterternary\": [{\"marker\": {\"colorbar\": {\"outlinewidth\": 0, \"ticks\": \"\"}}, \"type\": \"scatterternary\"}], \"surface\": [{\"colorbar\": {\"outlinewidth\": 0, \"ticks\": \"\"}, \"colorscale\": [[0.0, \"#0d0887\"], [0.1111111111111111, \"#46039f\"], [0.2222222222222222, \"#7201a8\"], [0.3333333333333333, \"#9c179e\"], [0.4444444444444444, \"#bd3786\"], [0.5555555555555556, \"#d8576b\"], [0.6666666666666666, \"#ed7953\"], [0.7777777777777778, \"#fb9f3a\"], [0.8888888888888888, \"#fdca26\"], [1.0, \"#f0f921\"]], \"type\": \"surface\"}], \"table\": [{\"cells\": {\"fill\": {\"color\": \"#EBF0F8\"}, \"line\": {\"color\": \"white\"}}, \"header\": {\"fill\": {\"color\": \"#C8D4E3\"}, \"line\": {\"color\": \"white\"}}, \"type\": \"table\"}]}, \"layout\": {\"annotationdefaults\": {\"arrowcolor\": \"#2a3f5f\", \"arrowhead\": 0, \"arrowwidth\": 1}, \"coloraxis\": {\"colorbar\": {\"outlinewidth\": 0, \"ticks\": \"\"}}, \"colorscale\": {\"diverging\": [[0, \"#8e0152\"], [0.1, \"#c51b7d\"], [0.2, \"#de77ae\"], [0.3, \"#f1b6da\"], [0.4, \"#fde0ef\"], [0.5, \"#f7f7f7\"], [0.6, \"#e6f5d0\"], [0.7, \"#b8e186\"], [0.8, \"#7fbc41\"], [0.9, \"#4d9221\"], [1, \"#276419\"]], \"sequential\": [[0.0, \"#0d0887\"], [0.1111111111111111, \"#46039f\"], [0.2222222222222222, \"#7201a8\"], [0.3333333333333333, \"#9c179e\"], [0.4444444444444444, \"#bd3786\"], [0.5555555555555556, \"#d8576b\"], [0.6666666666666666, \"#ed7953\"], [0.7777777777777778, \"#fb9f3a\"], [0.8888888888888888, \"#fdca26\"], [1.0, \"#f0f921\"]], \"sequentialminus\": [[0.0, \"#0d0887\"], [0.1111111111111111, \"#46039f\"], [0.2222222222222222, \"#7201a8\"], [0.3333333333333333, \"#9c179e\"], [0.4444444444444444, \"#bd3786\"], [0.5555555555555556, \"#d8576b\"], [0.6666666666666666, \"#ed7953\"], [0.7777777777777778, \"#fb9f3a\"], [0.8888888888888888, \"#fdca26\"], [1.0, \"#f0f921\"]]}, \"colorway\": [\"#636efa\", \"#EF553B\", \"#00cc96\", \"#ab63fa\", \"#FFA15A\", \"#19d3f3\", \"#FF6692\", \"#B6E880\", \"#FF97FF\", \"#FECB52\"], \"font\": {\"color\": \"#2a3f5f\"}, \"geo\": {\"bgcolor\": \"white\", \"lakecolor\": \"white\", \"landcolor\": \"#E5ECF6\", \"showlakes\": true, \"showland\": true, \"subunitcolor\": \"white\"}, \"hoverlabel\": {\"align\": \"left\"}, \"hovermode\": \"closest\", \"mapbox\": {\"style\": \"light\"}, \"paper_bgcolor\": \"white\", \"plot_bgcolor\": \"#E5ECF6\", \"polar\": {\"angularaxis\": {\"gridcolor\": \"white\", \"linecolor\": \"white\", \"ticks\": \"\"}, \"bgcolor\": \"#E5ECF6\", \"radialaxis\": {\"gridcolor\": \"white\", \"linecolor\": \"white\", \"ticks\": \"\"}}, \"scene\": {\"xaxis\": {\"backgroundcolor\": \"#E5ECF6\", \"gridcolor\": \"white\", \"gridwidth\": 2, \"linecolor\": \"white\", \"showbackground\": true, \"ticks\": \"\", \"zerolinecolor\": \"white\"}, \"yaxis\": {\"backgroundcolor\": \"#E5ECF6\", \"gridcolor\": \"white\", \"gridwidth\": 2, \"linecolor\": \"white\", \"showbackground\": true, \"ticks\": \"\", \"zerolinecolor\": \"white\"}, \"zaxis\": {\"backgroundcolor\": \"#E5ECF6\", \"gridcolor\": \"white\", \"gridwidth\": 2, \"linecolor\": \"white\", \"showbackground\": true, \"ticks\": \"\", \"zerolinecolor\": \"white\"}}, \"shapedefaults\": {\"line\": {\"color\": \"#2a3f5f\"}}, \"ternary\": {\"aaxis\": {\"gridcolor\": \"white\", \"linecolor\": \"white\", \"ticks\": \"\"}, \"baxis\": {\"gridcolor\": \"white\", \"linecolor\": \"white\", \"ticks\": \"\"}, \"bgcolor\": \"#E5ECF6\", \"caxis\": {\"gridcolor\": \"white\", \"linecolor\": \"white\", \"ticks\": \"\"}}, \"title\": {\"x\": 0.05}, \"xaxis\": {\"automargin\": true, \"gridcolor\": \"white\", \"linecolor\": \"white\", \"ticks\": \"\", \"title\": {\"standoff\": 15}, \"zerolinecolor\": \"white\", \"zerolinewidth\": 2}, \"yaxis\": {\"automargin\": true, \"gridcolor\": \"white\", \"linecolor\": \"white\", \"ticks\": \"\", \"title\": {\"standoff\": 15}, \"zerolinecolor\": \"white\", \"zerolinewidth\": 2}}}, \"title\": {\"text\": \"Frequently purchased main category products based on the part of the day\"}, \"width\": 1000, \"xaxis\": {\"anchor\": \"y\", \"domain\": [0.0, 1.0], \"title\": {\"text\": \"Dayparts\"}}, \"yaxis\": {\"anchor\": \"x\", \"domain\": [0.0, 1.0], \"title\": {\"text\": \"Count of products\"}}},\n",
              "                        {\"responsive\": true}\n",
              "                    ).then(function(){\n",
              "                            \n",
              "var gd = document.getElementById('19ce1a90-5d68-4644-a753-3bfef25af4db');\n",
              "var x = new MutationObserver(function (mutations, observer) {{\n",
              "        var display = window.getComputedStyle(gd).display;\n",
              "        if (!display || display === 'none') {{\n",
              "            console.log([gd, 'removed!']);\n",
              "            Plotly.purge(gd);\n",
              "            observer.disconnect();\n",
              "        }}\n",
              "}});\n",
              "\n",
              "// Listen for the removal of the full notebook cells\n",
              "var notebookContainer = gd.closest('#notebook-container');\n",
              "if (notebookContainer) {{\n",
              "    x.observe(notebookContainer, {childList: true});\n",
              "}}\n",
              "\n",
              "// Listen for the clearing of the current output cell\n",
              "var outputEl = gd.closest('.output');\n",
              "if (outputEl) {{\n",
              "    x.observe(outputEl, {childList: true});\n",
              "}}\n",
              "\n",
              "                        })\n",
              "                };\n",
              "                \n",
              "            </script>\n",
              "        </div>\n",
              "</body>\n",
              "</html>"
            ]
          },
          "metadata": {}
        }
      ]
    },
    {
      "cell_type": "markdown",
      "source": [
        "Extras and Sides Cheese are frequently purchased throughout the day. To understand, what particular items customers purchased unders the sides category, we can further analyze the product descr column. "
      ],
      "metadata": {
        "id": "aKY4AH1xV0ah"
      }
    },
    {
      "cell_type": "code",
      "source": [
        "df[['DAY','MAIN_CATEGORY_DESC']].value_counts()"
      ],
      "metadata": {
        "id": "O-oQXg94KfpE",
        "colab": {
          "base_uri": "https://localhost:8080/"
        },
        "outputId": "87342c15-64a0-432e-ebf1-db72b2f351d6"
      },
      "execution_count": 14,
      "outputs": [
        {
          "output_type": "execute_result",
          "data": {
            "text/plain": [
              "DAY         MAIN_CATEGORY_DESC   \n",
              "2020-09-11  Extras & Side Choices    17842\n",
              "2020-09-22  Extras & Side Choices    17499\n",
              "2020-09-02  Extras & Side Choices    17159\n",
              "2020-09-18  Extras & Side Choices    17097\n",
              "2020-09-04  Extras & Side Choices    16793\n",
              "                                     ...  \n",
              "2020-09-22  Unassigned                   1\n",
              "2020-09-20  Panera Grocery               1\n",
              "2020-09-13  Other Bakery                 1\n",
              "2020-09-05  Cream Cheese                 1\n",
              "2020-09-24  Unassigned                   1\n",
              "Length: 841, dtype: int64"
            ]
          },
          "metadata": {},
          "execution_count": 14
        }
      ]
    },
    {
      "cell_type": "code",
      "source": [
        "sales_by_day_name = df.groupby([\"DAY\", 'MAIN_CATEGORY_DESC'])['MAIN_CATEGORY_DESC'].count().to_frame()\n",
        "sales_by_day_name = sales_by_day_name.rename(columns = {'MAIN_CATEGORY_DESC':'Count'})\n",
        "sales_by_day_name.reset_index(inplace=True)\n",
        "sales_by_day_name"
      ],
      "metadata": {
        "id": "IJyk01_DPGzx",
        "colab": {
          "base_uri": "https://localhost:8080/",
          "height": 419
        },
        "outputId": "6b4503cb-b950-4826-9c9f-0166b283b090"
      },
      "execution_count": 15,
      "outputs": [
        {
          "output_type": "execute_result",
          "data": {
            "text/html": [
              "<div>\n",
              "<style scoped>\n",
              "    .dataframe tbody tr th:only-of-type {\n",
              "        vertical-align: middle;\n",
              "    }\n",
              "\n",
              "    .dataframe tbody tr th {\n",
              "        vertical-align: top;\n",
              "    }\n",
              "\n",
              "    .dataframe thead th {\n",
              "        text-align: right;\n",
              "    }\n",
              "</style>\n",
              "<table border=\"1\" class=\"dataframe\">\n",
              "  <thead>\n",
              "    <tr style=\"text-align: right;\">\n",
              "      <th></th>\n",
              "      <th>DAY</th>\n",
              "      <th>MAIN_CATEGORY_DESC</th>\n",
              "      <th>Count</th>\n",
              "    </tr>\n",
              "  </thead>\n",
              "  <tbody>\n",
              "    <tr>\n",
              "      <th>0</th>\n",
              "      <td>2020-09-02</td>\n",
              "      <td>Add On</td>\n",
              "      <td>18</td>\n",
              "    </tr>\n",
              "    <tr>\n",
              "      <th>1</th>\n",
              "      <td>2020-09-02</td>\n",
              "      <td>Baguettes, Demis, Rolls</td>\n",
              "      <td>38</td>\n",
              "    </tr>\n",
              "    <tr>\n",
              "      <th>2</th>\n",
              "      <td>2020-09-02</td>\n",
              "      <td>Bars, Cookies, Brownies</td>\n",
              "      <td>543</td>\n",
              "    </tr>\n",
              "    <tr>\n",
              "      <th>3</th>\n",
              "      <td>2020-09-02</td>\n",
              "      <td>Bowls</td>\n",
              "      <td>38</td>\n",
              "    </tr>\n",
              "    <tr>\n",
              "      <th>4</th>\n",
              "      <td>2020-09-02</td>\n",
              "      <td>Breakfast Sandwiches</td>\n",
              "      <td>244</td>\n",
              "    </tr>\n",
              "    <tr>\n",
              "      <th>...</th>\n",
              "      <td>...</td>\n",
              "      <td>...</td>\n",
              "      <td>...</td>\n",
              "    </tr>\n",
              "    <tr>\n",
              "      <th>836</th>\n",
              "      <td>2020-09-24</td>\n",
              "      <td>Soup</td>\n",
              "      <td>524</td>\n",
              "    </tr>\n",
              "    <tr>\n",
              "      <th>837</th>\n",
              "      <td>2020-09-24</td>\n",
              "      <td>Sweet Goods Gifting</td>\n",
              "      <td>83</td>\n",
              "    </tr>\n",
              "    <tr>\n",
              "      <th>838</th>\n",
              "      <td>2020-09-24</td>\n",
              "      <td>Take Home Soup</td>\n",
              "      <td>15</td>\n",
              "    </tr>\n",
              "    <tr>\n",
              "      <th>839</th>\n",
              "      <td>2020-09-24</td>\n",
              "      <td>U Pick 2</td>\n",
              "      <td>3845</td>\n",
              "    </tr>\n",
              "    <tr>\n",
              "      <th>840</th>\n",
              "      <td>2020-09-24</td>\n",
              "      <td>Unassigned</td>\n",
              "      <td>1</td>\n",
              "    </tr>\n",
              "  </tbody>\n",
              "</table>\n",
              "<p>841 rows × 3 columns</p>\n",
              "</div>"
            ],
            "text/plain": [
              "            DAY       MAIN_CATEGORY_DESC  Count\n",
              "0    2020-09-02                   Add On     18\n",
              "1    2020-09-02  Baguettes, Demis, Rolls     38\n",
              "2    2020-09-02  Bars, Cookies, Brownies    543\n",
              "3    2020-09-02                    Bowls     38\n",
              "4    2020-09-02     Breakfast Sandwiches    244\n",
              "..          ...                      ...    ...\n",
              "836  2020-09-24                     Soup    524\n",
              "837  2020-09-24      Sweet Goods Gifting     83\n",
              "838  2020-09-24           Take Home Soup     15\n",
              "839  2020-09-24                 U Pick 2   3845\n",
              "840  2020-09-24               Unassigned      1\n",
              "\n",
              "[841 rows x 3 columns]"
            ]
          },
          "metadata": {},
          "execution_count": 15
        }
      ]
    },
    {
      "cell_type": "code",
      "source": [
        "sales_by_day = df.groupby([\"DAY\"])['MAIN_CATEGORY_DESC'].count().to_frame()\n",
        "sales_by_day.reset_index(inplace=True)\n",
        "sales_by_day"
      ],
      "metadata": {
        "id": "uhtNMJH5OGOq",
        "colab": {
          "base_uri": "https://localhost:8080/",
          "height": 762
        },
        "outputId": "d416efa1-6c16-4359-fd9f-3ef466a77d8c"
      },
      "execution_count": 16,
      "outputs": [
        {
          "output_type": "execute_result",
          "data": {
            "text/html": [
              "<div>\n",
              "<style scoped>\n",
              "    .dataframe tbody tr th:only-of-type {\n",
              "        vertical-align: middle;\n",
              "    }\n",
              "\n",
              "    .dataframe tbody tr th {\n",
              "        vertical-align: top;\n",
              "    }\n",
              "\n",
              "    .dataframe thead th {\n",
              "        text-align: right;\n",
              "    }\n",
              "</style>\n",
              "<table border=\"1\" class=\"dataframe\">\n",
              "  <thead>\n",
              "    <tr style=\"text-align: right;\">\n",
              "      <th></th>\n",
              "      <th>DAY</th>\n",
              "      <th>MAIN_CATEGORY_DESC</th>\n",
              "    </tr>\n",
              "  </thead>\n",
              "  <tbody>\n",
              "    <tr>\n",
              "      <th>0</th>\n",
              "      <td>2020-09-02</td>\n",
              "      <td>31593</td>\n",
              "    </tr>\n",
              "    <tr>\n",
              "      <th>1</th>\n",
              "      <td>2020-09-03</td>\n",
              "      <td>1722</td>\n",
              "    </tr>\n",
              "    <tr>\n",
              "      <th>2</th>\n",
              "      <td>2020-09-04</td>\n",
              "      <td>31523</td>\n",
              "    </tr>\n",
              "    <tr>\n",
              "      <th>3</th>\n",
              "      <td>2020-09-05</td>\n",
              "      <td>527</td>\n",
              "    </tr>\n",
              "    <tr>\n",
              "      <th>4</th>\n",
              "      <td>2020-09-06</td>\n",
              "      <td>20893</td>\n",
              "    </tr>\n",
              "    <tr>\n",
              "      <th>5</th>\n",
              "      <td>2020-09-07</td>\n",
              "      <td>20224</td>\n",
              "    </tr>\n",
              "    <tr>\n",
              "      <th>6</th>\n",
              "      <td>2020-09-08</td>\n",
              "      <td>30988</td>\n",
              "    </tr>\n",
              "    <tr>\n",
              "      <th>7</th>\n",
              "      <td>2020-09-09</td>\n",
              "      <td>27137</td>\n",
              "    </tr>\n",
              "    <tr>\n",
              "      <th>8</th>\n",
              "      <td>2020-09-10</td>\n",
              "      <td>27840</td>\n",
              "    </tr>\n",
              "    <tr>\n",
              "      <th>9</th>\n",
              "      <td>2020-09-11</td>\n",
              "      <td>33860</td>\n",
              "    </tr>\n",
              "    <tr>\n",
              "      <th>10</th>\n",
              "      <td>2020-09-12</td>\n",
              "      <td>31166</td>\n",
              "    </tr>\n",
              "    <tr>\n",
              "      <th>11</th>\n",
              "      <td>2020-09-13</td>\n",
              "      <td>22922</td>\n",
              "    </tr>\n",
              "    <tr>\n",
              "      <th>12</th>\n",
              "      <td>2020-09-14</td>\n",
              "      <td>24347</td>\n",
              "    </tr>\n",
              "    <tr>\n",
              "      <th>13</th>\n",
              "      <td>2020-09-15</td>\n",
              "      <td>32675</td>\n",
              "    </tr>\n",
              "    <tr>\n",
              "      <th>14</th>\n",
              "      <td>2020-09-16</td>\n",
              "      <td>30288</td>\n",
              "    </tr>\n",
              "    <tr>\n",
              "      <th>15</th>\n",
              "      <td>2020-09-17</td>\n",
              "      <td>27811</td>\n",
              "    </tr>\n",
              "    <tr>\n",
              "      <th>16</th>\n",
              "      <td>2020-09-18</td>\n",
              "      <td>32774</td>\n",
              "    </tr>\n",
              "    <tr>\n",
              "      <th>17</th>\n",
              "      <td>2020-09-19</td>\n",
              "      <td>30153</td>\n",
              "    </tr>\n",
              "    <tr>\n",
              "      <th>18</th>\n",
              "      <td>2020-09-20</td>\n",
              "      <td>24970</td>\n",
              "    </tr>\n",
              "    <tr>\n",
              "      <th>19</th>\n",
              "      <td>2020-09-21</td>\n",
              "      <td>29025</td>\n",
              "    </tr>\n",
              "    <tr>\n",
              "      <th>20</th>\n",
              "      <td>2020-09-22</td>\n",
              "      <td>34939</td>\n",
              "    </tr>\n",
              "    <tr>\n",
              "      <th>21</th>\n",
              "      <td>2020-09-23</td>\n",
              "      <td>12837</td>\n",
              "    </tr>\n",
              "    <tr>\n",
              "      <th>22</th>\n",
              "      <td>2020-09-24</td>\n",
              "      <td>26117</td>\n",
              "    </tr>\n",
              "  </tbody>\n",
              "</table>\n",
              "</div>"
            ],
            "text/plain": [
              "           DAY  MAIN_CATEGORY_DESC\n",
              "0   2020-09-02               31593\n",
              "1   2020-09-03                1722\n",
              "2   2020-09-04               31523\n",
              "3   2020-09-05                 527\n",
              "4   2020-09-06               20893\n",
              "5   2020-09-07               20224\n",
              "6   2020-09-08               30988\n",
              "7   2020-09-09               27137\n",
              "8   2020-09-10               27840\n",
              "9   2020-09-11               33860\n",
              "10  2020-09-12               31166\n",
              "11  2020-09-13               22922\n",
              "12  2020-09-14               24347\n",
              "13  2020-09-15               32675\n",
              "14  2020-09-16               30288\n",
              "15  2020-09-17               27811\n",
              "16  2020-09-18               32774\n",
              "17  2020-09-19               30153\n",
              "18  2020-09-20               24970\n",
              "19  2020-09-21               29025\n",
              "20  2020-09-22               34939\n",
              "21  2020-09-23               12837\n",
              "22  2020-09-24               26117"
            ]
          },
          "metadata": {},
          "execution_count": 16
        }
      ]
    },
    {
      "cell_type": "code",
      "source": [
        "fig = px.line(sales_by_day, x=\"DAY\", y=\"MAIN_CATEGORY_DESC\")\n",
        "fig.update_layout(title = \"The purchase of main category products throughtout the September\",\n",
        "     xaxis_title = 'Day', yaxis_title = 'Total')\n",
        "fig.show()"
      ],
      "metadata": {
        "id": "jS8G0uVVONKH",
        "colab": {
          "base_uri": "https://localhost:8080/",
          "height": 542
        },
        "outputId": "e73b64ab-1eed-4efe-9463-527ab13f1cc6"
      },
      "execution_count": 17,
      "outputs": [
        {
          "output_type": "display_data",
          "data": {
            "text/html": [
              "<html>\n",
              "<head><meta charset=\"utf-8\" /></head>\n",
              "<body>\n",
              "    <div>\n",
              "            <script src=\"https://cdnjs.cloudflare.com/ajax/libs/mathjax/2.7.5/MathJax.js?config=TeX-AMS-MML_SVG\"></script><script type=\"text/javascript\">if (window.MathJax) {MathJax.Hub.Config({SVG: {font: \"STIX-Web\"}});}</script>\n",
              "                <script type=\"text/javascript\">window.PlotlyConfig = {MathJaxConfig: 'local'};</script>\n",
              "        <script src=\"https://cdn.plot.ly/plotly-latest.min.js\"></script>    \n",
              "            <div id=\"f83d00fa-f252-47a1-a19b-cf5739120e29\" class=\"plotly-graph-div\" style=\"height:525px; width:100%;\"></div>\n",
              "            <script type=\"text/javascript\">\n",
              "                \n",
              "                    window.PLOTLYENV=window.PLOTLYENV || {};\n",
              "                    \n",
              "                if (document.getElementById(\"f83d00fa-f252-47a1-a19b-cf5739120e29\")) {\n",
              "                    Plotly.newPlot(\n",
              "                        'f83d00fa-f252-47a1-a19b-cf5739120e29',\n",
              "                        [{\"hoverlabel\": {\"namelength\": 0}, \"hovertemplate\": \"DAY=%{x}<br>MAIN_CATEGORY_DESC=%{y}\", \"legendgroup\": \"\", \"line\": {\"color\": \"#636efa\", \"dash\": \"solid\"}, \"mode\": \"lines\", \"name\": \"\", \"showlegend\": false, \"type\": \"scatter\", \"x\": [\"2020-09-02\", \"2020-09-03\", \"2020-09-04\", \"2020-09-05\", \"2020-09-06\", \"2020-09-07\", \"2020-09-08\", \"2020-09-09\", \"2020-09-10\", \"2020-09-11\", \"2020-09-12\", \"2020-09-13\", \"2020-09-14\", \"2020-09-15\", \"2020-09-16\", \"2020-09-17\", \"2020-09-18\", \"2020-09-19\", \"2020-09-20\", \"2020-09-21\", \"2020-09-22\", \"2020-09-23\", \"2020-09-24\"], \"xaxis\": \"x\", \"y\": [31593, 1722, 31523, 527, 20893, 20224, 30988, 27137, 27840, 33860, 31166, 22922, 24347, 32675, 30288, 27811, 32774, 30153, 24970, 29025, 34939, 12837, 26117], \"yaxis\": \"y\"}],\n",
              "                        {\"legend\": {\"tracegroupgap\": 0}, \"margin\": {\"t\": 60}, \"template\": {\"data\": {\"bar\": [{\"error_x\": {\"color\": \"#2a3f5f\"}, \"error_y\": {\"color\": \"#2a3f5f\"}, \"marker\": {\"line\": {\"color\": \"#E5ECF6\", \"width\": 0.5}}, \"type\": \"bar\"}], \"barpolar\": [{\"marker\": {\"line\": {\"color\": \"#E5ECF6\", \"width\": 0.5}}, \"type\": \"barpolar\"}], \"carpet\": [{\"aaxis\": {\"endlinecolor\": \"#2a3f5f\", \"gridcolor\": \"white\", \"linecolor\": \"white\", \"minorgridcolor\": \"white\", \"startlinecolor\": \"#2a3f5f\"}, \"baxis\": {\"endlinecolor\": \"#2a3f5f\", \"gridcolor\": \"white\", \"linecolor\": \"white\", \"minorgridcolor\": \"white\", \"startlinecolor\": \"#2a3f5f\"}, \"type\": \"carpet\"}], \"choropleth\": [{\"colorbar\": {\"outlinewidth\": 0, \"ticks\": \"\"}, \"type\": \"choropleth\"}], \"contour\": [{\"colorbar\": {\"outlinewidth\": 0, \"ticks\": \"\"}, \"colorscale\": [[0.0, \"#0d0887\"], [0.1111111111111111, \"#46039f\"], [0.2222222222222222, \"#7201a8\"], [0.3333333333333333, \"#9c179e\"], [0.4444444444444444, \"#bd3786\"], [0.5555555555555556, \"#d8576b\"], [0.6666666666666666, \"#ed7953\"], [0.7777777777777778, \"#fb9f3a\"], [0.8888888888888888, \"#fdca26\"], [1.0, \"#f0f921\"]], \"type\": \"contour\"}], \"contourcarpet\": [{\"colorbar\": {\"outlinewidth\": 0, \"ticks\": \"\"}, \"type\": \"contourcarpet\"}], \"heatmap\": [{\"colorbar\": {\"outlinewidth\": 0, \"ticks\": \"\"}, \"colorscale\": [[0.0, \"#0d0887\"], [0.1111111111111111, \"#46039f\"], [0.2222222222222222, \"#7201a8\"], [0.3333333333333333, \"#9c179e\"], [0.4444444444444444, \"#bd3786\"], [0.5555555555555556, \"#d8576b\"], [0.6666666666666666, \"#ed7953\"], [0.7777777777777778, \"#fb9f3a\"], [0.8888888888888888, \"#fdca26\"], [1.0, \"#f0f921\"]], \"type\": \"heatmap\"}], \"heatmapgl\": [{\"colorbar\": {\"outlinewidth\": 0, \"ticks\": \"\"}, \"colorscale\": [[0.0, \"#0d0887\"], [0.1111111111111111, \"#46039f\"], [0.2222222222222222, \"#7201a8\"], [0.3333333333333333, \"#9c179e\"], [0.4444444444444444, \"#bd3786\"], [0.5555555555555556, \"#d8576b\"], [0.6666666666666666, \"#ed7953\"], [0.7777777777777778, \"#fb9f3a\"], [0.8888888888888888, \"#fdca26\"], [1.0, \"#f0f921\"]], \"type\": \"heatmapgl\"}], \"histogram\": [{\"marker\": {\"colorbar\": {\"outlinewidth\": 0, \"ticks\": \"\"}}, \"type\": \"histogram\"}], \"histogram2d\": [{\"colorbar\": {\"outlinewidth\": 0, \"ticks\": \"\"}, \"colorscale\": [[0.0, \"#0d0887\"], [0.1111111111111111, \"#46039f\"], [0.2222222222222222, \"#7201a8\"], [0.3333333333333333, \"#9c179e\"], [0.4444444444444444, \"#bd3786\"], [0.5555555555555556, \"#d8576b\"], [0.6666666666666666, \"#ed7953\"], [0.7777777777777778, \"#fb9f3a\"], [0.8888888888888888, \"#fdca26\"], [1.0, \"#f0f921\"]], \"type\": \"histogram2d\"}], \"histogram2dcontour\": [{\"colorbar\": {\"outlinewidth\": 0, \"ticks\": \"\"}, \"colorscale\": [[0.0, \"#0d0887\"], [0.1111111111111111, \"#46039f\"], [0.2222222222222222, \"#7201a8\"], [0.3333333333333333, \"#9c179e\"], [0.4444444444444444, \"#bd3786\"], [0.5555555555555556, \"#d8576b\"], [0.6666666666666666, \"#ed7953\"], [0.7777777777777778, \"#fb9f3a\"], [0.8888888888888888, \"#fdca26\"], [1.0, \"#f0f921\"]], \"type\": \"histogram2dcontour\"}], \"mesh3d\": [{\"colorbar\": {\"outlinewidth\": 0, \"ticks\": \"\"}, \"type\": \"mesh3d\"}], \"parcoords\": [{\"line\": {\"colorbar\": {\"outlinewidth\": 0, \"ticks\": \"\"}}, \"type\": \"parcoords\"}], \"pie\": [{\"automargin\": true, \"type\": \"pie\"}], \"scatter\": [{\"marker\": {\"colorbar\": {\"outlinewidth\": 0, \"ticks\": \"\"}}, \"type\": \"scatter\"}], \"scatter3d\": [{\"line\": {\"colorbar\": {\"outlinewidth\": 0, \"ticks\": \"\"}}, \"marker\": {\"colorbar\": {\"outlinewidth\": 0, \"ticks\": \"\"}}, \"type\": \"scatter3d\"}], \"scattercarpet\": [{\"marker\": {\"colorbar\": {\"outlinewidth\": 0, \"ticks\": \"\"}}, \"type\": \"scattercarpet\"}], \"scattergeo\": [{\"marker\": {\"colorbar\": {\"outlinewidth\": 0, \"ticks\": \"\"}}, \"type\": \"scattergeo\"}], \"scattergl\": [{\"marker\": {\"colorbar\": {\"outlinewidth\": 0, \"ticks\": \"\"}}, \"type\": \"scattergl\"}], \"scattermapbox\": [{\"marker\": {\"colorbar\": {\"outlinewidth\": 0, \"ticks\": \"\"}}, \"type\": \"scattermapbox\"}], \"scatterpolar\": [{\"marker\": {\"colorbar\": {\"outlinewidth\": 0, \"ticks\": \"\"}}, \"type\": \"scatterpolar\"}], \"scatterpolargl\": [{\"marker\": {\"colorbar\": {\"outlinewidth\": 0, \"ticks\": \"\"}}, \"type\": \"scatterpolargl\"}], \"scatterternary\": [{\"marker\": {\"colorbar\": {\"outlinewidth\": 0, \"ticks\": \"\"}}, \"type\": \"scatterternary\"}], \"surface\": [{\"colorbar\": {\"outlinewidth\": 0, \"ticks\": \"\"}, \"colorscale\": [[0.0, \"#0d0887\"], [0.1111111111111111, \"#46039f\"], [0.2222222222222222, \"#7201a8\"], [0.3333333333333333, \"#9c179e\"], [0.4444444444444444, \"#bd3786\"], [0.5555555555555556, \"#d8576b\"], [0.6666666666666666, \"#ed7953\"], [0.7777777777777778, \"#fb9f3a\"], [0.8888888888888888, \"#fdca26\"], [1.0, \"#f0f921\"]], \"type\": \"surface\"}], \"table\": [{\"cells\": {\"fill\": {\"color\": \"#EBF0F8\"}, \"line\": {\"color\": \"white\"}}, \"header\": {\"fill\": {\"color\": \"#C8D4E3\"}, \"line\": {\"color\": \"white\"}}, \"type\": \"table\"}]}, \"layout\": {\"annotationdefaults\": {\"arrowcolor\": \"#2a3f5f\", \"arrowhead\": 0, \"arrowwidth\": 1}, \"coloraxis\": {\"colorbar\": {\"outlinewidth\": 0, \"ticks\": \"\"}}, \"colorscale\": {\"diverging\": [[0, \"#8e0152\"], [0.1, \"#c51b7d\"], [0.2, \"#de77ae\"], [0.3, \"#f1b6da\"], [0.4, \"#fde0ef\"], [0.5, \"#f7f7f7\"], [0.6, \"#e6f5d0\"], [0.7, \"#b8e186\"], [0.8, \"#7fbc41\"], [0.9, \"#4d9221\"], [1, \"#276419\"]], \"sequential\": [[0.0, \"#0d0887\"], [0.1111111111111111, \"#46039f\"], [0.2222222222222222, \"#7201a8\"], [0.3333333333333333, \"#9c179e\"], [0.4444444444444444, \"#bd3786\"], [0.5555555555555556, \"#d8576b\"], [0.6666666666666666, \"#ed7953\"], [0.7777777777777778, \"#fb9f3a\"], [0.8888888888888888, \"#fdca26\"], [1.0, \"#f0f921\"]], \"sequentialminus\": [[0.0, \"#0d0887\"], [0.1111111111111111, \"#46039f\"], [0.2222222222222222, \"#7201a8\"], [0.3333333333333333, \"#9c179e\"], [0.4444444444444444, \"#bd3786\"], [0.5555555555555556, \"#d8576b\"], [0.6666666666666666, \"#ed7953\"], [0.7777777777777778, \"#fb9f3a\"], [0.8888888888888888, \"#fdca26\"], [1.0, \"#f0f921\"]]}, \"colorway\": [\"#636efa\", \"#EF553B\", \"#00cc96\", \"#ab63fa\", \"#FFA15A\", \"#19d3f3\", \"#FF6692\", \"#B6E880\", \"#FF97FF\", \"#FECB52\"], \"font\": {\"color\": \"#2a3f5f\"}, \"geo\": {\"bgcolor\": \"white\", \"lakecolor\": \"white\", \"landcolor\": \"#E5ECF6\", \"showlakes\": true, \"showland\": true, \"subunitcolor\": \"white\"}, \"hoverlabel\": {\"align\": \"left\"}, \"hovermode\": \"closest\", \"mapbox\": {\"style\": \"light\"}, \"paper_bgcolor\": \"white\", \"plot_bgcolor\": \"#E5ECF6\", \"polar\": {\"angularaxis\": {\"gridcolor\": \"white\", \"linecolor\": \"white\", \"ticks\": \"\"}, \"bgcolor\": \"#E5ECF6\", \"radialaxis\": {\"gridcolor\": \"white\", \"linecolor\": \"white\", \"ticks\": \"\"}}, \"scene\": {\"xaxis\": {\"backgroundcolor\": \"#E5ECF6\", \"gridcolor\": \"white\", \"gridwidth\": 2, \"linecolor\": \"white\", \"showbackground\": true, \"ticks\": \"\", \"zerolinecolor\": \"white\"}, \"yaxis\": {\"backgroundcolor\": \"#E5ECF6\", \"gridcolor\": \"white\", \"gridwidth\": 2, \"linecolor\": \"white\", \"showbackground\": true, \"ticks\": \"\", \"zerolinecolor\": \"white\"}, \"zaxis\": {\"backgroundcolor\": \"#E5ECF6\", \"gridcolor\": \"white\", \"gridwidth\": 2, \"linecolor\": \"white\", \"showbackground\": true, \"ticks\": \"\", \"zerolinecolor\": \"white\"}}, \"shapedefaults\": {\"line\": {\"color\": \"#2a3f5f\"}}, \"ternary\": {\"aaxis\": {\"gridcolor\": \"white\", \"linecolor\": \"white\", \"ticks\": \"\"}, \"baxis\": {\"gridcolor\": \"white\", \"linecolor\": \"white\", \"ticks\": \"\"}, \"bgcolor\": \"#E5ECF6\", \"caxis\": {\"gridcolor\": \"white\", \"linecolor\": \"white\", \"ticks\": \"\"}}, \"title\": {\"x\": 0.05}, \"xaxis\": {\"automargin\": true, \"gridcolor\": \"white\", \"linecolor\": \"white\", \"ticks\": \"\", \"title\": {\"standoff\": 15}, \"zerolinecolor\": \"white\", \"zerolinewidth\": 2}, \"yaxis\": {\"automargin\": true, \"gridcolor\": \"white\", \"linecolor\": \"white\", \"ticks\": \"\", \"title\": {\"standoff\": 15}, \"zerolinecolor\": \"white\", \"zerolinewidth\": 2}}}, \"title\": {\"text\": \"The purchase of main category products throughtout the September\"}, \"xaxis\": {\"anchor\": \"y\", \"domain\": [0.0, 1.0], \"title\": {\"text\": \"Day\"}}, \"yaxis\": {\"anchor\": \"x\", \"domain\": [0.0, 1.0], \"title\": {\"text\": \"Total\"}}},\n",
              "                        {\"responsive\": true}\n",
              "                    ).then(function(){\n",
              "                            \n",
              "var gd = document.getElementById('f83d00fa-f252-47a1-a19b-cf5739120e29');\n",
              "var x = new MutationObserver(function (mutations, observer) {{\n",
              "        var display = window.getComputedStyle(gd).display;\n",
              "        if (!display || display === 'none') {{\n",
              "            console.log([gd, 'removed!']);\n",
              "            Plotly.purge(gd);\n",
              "            observer.disconnect();\n",
              "        }}\n",
              "}});\n",
              "\n",
              "// Listen for the removal of the full notebook cells\n",
              "var notebookContainer = gd.closest('#notebook-container');\n",
              "if (notebookContainer) {{\n",
              "    x.observe(notebookContainer, {childList: true});\n",
              "}}\n",
              "\n",
              "// Listen for the clearing of the current output cell\n",
              "var outputEl = gd.closest('.output');\n",
              "if (outputEl) {{\n",
              "    x.observe(outputEl, {childList: true});\n",
              "}}\n",
              "\n",
              "                        })\n",
              "                };\n",
              "                \n",
              "            </script>\n",
              "        </div>\n",
              "</body>\n",
              "</html>"
            ]
          },
          "metadata": {}
        }
      ]
    },
    {
      "cell_type": "code",
      "source": [
        "fig = px.line(sales_by_day_name, x=\"DAY\", y=\"Count\", color = 'MAIN_CATEGORY_DESC')\n",
        "fig.update_traces(textposition=\"bottom right\")\n",
        "fig.update_layout(title = \"The purchase of main category products throughtout the September by item\",\n",
        "     xaxis_title = 'Day', yaxis_title = 'Total')\n",
        "fig.show()"
      ],
      "metadata": {
        "id": "ioNpu3JFPlU7",
        "colab": {
          "base_uri": "https://localhost:8080/",
          "height": 542
        },
        "outputId": "6bcc6427-16fd-45d4-e6f9-98616467fc66"
      },
      "execution_count": 18,
      "outputs": [
        {
          "output_type": "display_data",
          "data": {
            "text/html": [
              "<html>\n",
              "<head><meta charset=\"utf-8\" /></head>\n",
              "<body>\n",
              "    <div>\n",
              "            <script src=\"https://cdnjs.cloudflare.com/ajax/libs/mathjax/2.7.5/MathJax.js?config=TeX-AMS-MML_SVG\"></script><script type=\"text/javascript\">if (window.MathJax) {MathJax.Hub.Config({SVG: {font: \"STIX-Web\"}});}</script>\n",
              "                <script type=\"text/javascript\">window.PlotlyConfig = {MathJaxConfig: 'local'};</script>\n",
              "        <script src=\"https://cdn.plot.ly/plotly-latest.min.js\"></script>    \n",
              "            <div id=\"6fc0a07e-94ec-4cc1-95f9-fd3adb97f88e\" class=\"plotly-graph-div\" style=\"height:525px; width:100%;\"></div>\n",
              "            <script type=\"text/javascript\">\n",
              "                \n",
              "                    window.PLOTLYENV=window.PLOTLYENV || {};\n",
              "                    \n",
              "                if (document.getElementById(\"6fc0a07e-94ec-4cc1-95f9-fd3adb97f88e\")) {\n",
              "                    Plotly.newPlot(\n",
              "                        '6fc0a07e-94ec-4cc1-95f9-fd3adb97f88e',\n",
              "                        [{\"hoverlabel\": {\"namelength\": 0}, \"hovertemplate\": \"MAIN_CATEGORY_DESC=Add On<br>DAY=%{x}<br>Count=%{y}\", \"legendgroup\": \"MAIN_CATEGORY_DESC=Add On\", \"line\": {\"color\": \"#636efa\", \"dash\": \"solid\"}, \"mode\": \"lines\", \"name\": \"MAIN_CATEGORY_DESC=Add On\", \"showlegend\": true, \"textposition\": \"bottom right\", \"type\": \"scatter\", \"x\": [\"2020-09-02\", \"2020-09-04\", \"2020-09-06\", \"2020-09-07\", \"2020-09-08\", \"2020-09-09\", \"2020-09-10\", \"2020-09-11\", \"2020-09-12\", \"2020-09-13\", \"2020-09-14\", \"2020-09-15\", \"2020-09-16\", \"2020-09-17\", \"2020-09-18\", \"2020-09-19\", \"2020-09-20\", \"2020-09-21\", \"2020-09-22\", \"2020-09-23\", \"2020-09-24\"], \"xaxis\": \"x\", \"y\": [18, 17, 16, 10, 16, 15, 18, 27, 16, 6, 12, 12, 18, 17, 23, 21, 20, 17, 25, 6, 13], \"yaxis\": \"y\"}, {\"hoverlabel\": {\"namelength\": 0}, \"hovertemplate\": \"MAIN_CATEGORY_DESC=Baguettes, Demis, Rolls<br>DAY=%{x}<br>Count=%{y}\", \"legendgroup\": \"MAIN_CATEGORY_DESC=Baguettes, Demis, Rolls\", \"line\": {\"color\": \"#EF553B\", \"dash\": \"solid\"}, \"mode\": \"lines\", \"name\": \"MAIN_CATEGORY_DESC=Baguettes, Demis, Rolls\", \"showlegend\": true, \"textposition\": \"bottom right\", \"type\": \"scatter\", \"x\": [\"2020-09-02\", \"2020-09-04\", \"2020-09-06\", \"2020-09-07\", \"2020-09-08\", \"2020-09-09\", \"2020-09-10\", \"2020-09-11\", \"2020-09-12\", \"2020-09-13\", \"2020-09-14\", \"2020-09-15\", \"2020-09-16\", \"2020-09-17\", \"2020-09-18\", \"2020-09-19\", \"2020-09-20\", \"2020-09-21\", \"2020-09-22\", \"2020-09-23\", \"2020-09-24\"], \"xaxis\": \"x\", \"y\": [38, 45, 40, 27, 37, 47, 42, 20, 55, 40, 36, 34, 43, 36, 39, 39, 43, 38, 34, 14, 28], \"yaxis\": \"y\"}, {\"hoverlabel\": {\"namelength\": 0}, \"hovertemplate\": \"MAIN_CATEGORY_DESC=Bars, Cookies, Brownies<br>DAY=%{x}<br>Count=%{y}\", \"legendgroup\": \"MAIN_CATEGORY_DESC=Bars, Cookies, Brownies\", \"line\": {\"color\": \"#00cc96\", \"dash\": \"solid\"}, \"mode\": \"lines\", \"name\": \"MAIN_CATEGORY_DESC=Bars, Cookies, Brownies\", \"showlegend\": true, \"textposition\": \"bottom right\", \"type\": \"scatter\", \"x\": [\"2020-09-02\", \"2020-09-03\", \"2020-09-04\", \"2020-09-05\", \"2020-09-06\", \"2020-09-07\", \"2020-09-08\", \"2020-09-09\", \"2020-09-10\", \"2020-09-11\", \"2020-09-12\", \"2020-09-13\", \"2020-09-14\", \"2020-09-15\", \"2020-09-16\", \"2020-09-17\", \"2020-09-18\", \"2020-09-19\", \"2020-09-20\", \"2020-09-21\", \"2020-09-22\", \"2020-09-23\", \"2020-09-24\"], \"xaxis\": \"x\", \"y\": [543, 34, 572, 5, 357, 352, 453, 447, 491, 636, 511, 378, 397, 517, 537, 511, 616, 537, 494, 461, 557, 232, 492], \"yaxis\": \"y\"}, {\"hoverlabel\": {\"namelength\": 0}, \"hovertemplate\": \"MAIN_CATEGORY_DESC=Bowls<br>DAY=%{x}<br>Count=%{y}\", \"legendgroup\": \"MAIN_CATEGORY_DESC=Bowls\", \"line\": {\"color\": \"#ab63fa\", \"dash\": \"solid\"}, \"mode\": \"lines\", \"name\": \"MAIN_CATEGORY_DESC=Bowls\", \"showlegend\": true, \"textposition\": \"bottom right\", \"type\": \"scatter\", \"x\": [\"2020-09-02\", \"2020-09-03\", \"2020-09-04\", \"2020-09-06\", \"2020-09-07\", \"2020-09-08\", \"2020-09-09\", \"2020-09-10\", \"2020-09-11\", \"2020-09-12\", \"2020-09-13\", \"2020-09-14\", \"2020-09-15\", \"2020-09-16\", \"2020-09-17\", \"2020-09-18\", \"2020-09-19\", \"2020-09-20\", \"2020-09-21\", \"2020-09-22\", \"2020-09-23\", \"2020-09-24\"], \"xaxis\": \"x\", \"y\": [38, 2, 43, 31, 35, 36, 51, 38, 58, 38, 25, 32, 35, 43, 43, 56, 55, 42, 41, 57, 19, 29], \"yaxis\": \"y\"}, {\"hoverlabel\": {\"namelength\": 0}, \"hovertemplate\": \"MAIN_CATEGORY_DESC=Breakfast Sandwiches<br>DAY=%{x}<br>Count=%{y}\", \"legendgroup\": \"MAIN_CATEGORY_DESC=Breakfast Sandwiches\", \"line\": {\"color\": \"#FFA15A\", \"dash\": \"solid\"}, \"mode\": \"lines\", \"name\": \"MAIN_CATEGORY_DESC=Breakfast Sandwiches\", \"showlegend\": true, \"textposition\": \"bottom right\", \"type\": \"scatter\", \"x\": [\"2020-09-02\", \"2020-09-03\", \"2020-09-04\", \"2020-09-06\", \"2020-09-07\", \"2020-09-08\", \"2020-09-09\", \"2020-09-10\", \"2020-09-11\", \"2020-09-12\", \"2020-09-13\", \"2020-09-14\", \"2020-09-15\", \"2020-09-16\", \"2020-09-17\", \"2020-09-18\", \"2020-09-19\", \"2020-09-20\", \"2020-09-21\", \"2020-09-22\", \"2020-09-23\", \"2020-09-24\"], \"xaxis\": \"x\", \"y\": [244, 13, 262, 342, 294, 180, 203, 154, 210, 379, 340, 136, 162, 186, 192, 192, 317, 306, 159, 133, 75, 142], \"yaxis\": \"y\"}, {\"hoverlabel\": {\"namelength\": 0}, \"hovertemplate\": \"MAIN_CATEGORY_DESC=Bubbler and Fountain Drinks<br>DAY=%{x}<br>Count=%{y}\", \"legendgroup\": \"MAIN_CATEGORY_DESC=Bubbler and Fountain Drinks\", \"line\": {\"color\": \"#19d3f3\", \"dash\": \"solid\"}, \"mode\": \"lines\", \"name\": \"MAIN_CATEGORY_DESC=Bubbler and Fountain Drinks\", \"showlegend\": true, \"textposition\": \"bottom right\", \"type\": \"scatter\", \"x\": [\"2020-09-02\", \"2020-09-03\", \"2020-09-04\", \"2020-09-05\", \"2020-09-06\", \"2020-09-07\", \"2020-09-08\", \"2020-09-09\", \"2020-09-10\", \"2020-09-11\", \"2020-09-12\", \"2020-09-13\", \"2020-09-14\", \"2020-09-15\", \"2020-09-16\", \"2020-09-17\", \"2020-09-18\", \"2020-09-19\", \"2020-09-20\", \"2020-09-21\", \"2020-09-22\", \"2020-09-23\", \"2020-09-24\"], \"xaxis\": \"x\", \"y\": [660, 32, 795, 7, 513, 584, 660, 643, 595, 784, 824, 625, 575, 678, 700, 611, 829, 889, 686, 720, 722, 296, 557], \"yaxis\": \"y\"}, {\"hoverlabel\": {\"namelength\": 0}, \"hovertemplate\": \"MAIN_CATEGORY_DESC=Bulk Bagels<br>DAY=%{x}<br>Count=%{y}\", \"legendgroup\": \"MAIN_CATEGORY_DESC=Bulk Bagels\", \"line\": {\"color\": \"#FF6692\", \"dash\": \"solid\"}, \"mode\": \"lines\", \"name\": \"MAIN_CATEGORY_DESC=Bulk Bagels\", \"showlegend\": true, \"textposition\": \"bottom right\", \"type\": \"scatter\", \"x\": [\"2020-09-02\", \"2020-09-03\", \"2020-09-04\", \"2020-09-05\", \"2020-09-06\", \"2020-09-07\", \"2020-09-08\", \"2020-09-09\", \"2020-09-10\", \"2020-09-11\", \"2020-09-12\", \"2020-09-13\", \"2020-09-14\", \"2020-09-15\", \"2020-09-16\", \"2020-09-17\", \"2020-09-18\", \"2020-09-19\", \"2020-09-20\", \"2020-09-21\", \"2020-09-22\", \"2020-09-23\", \"2020-09-24\"], \"xaxis\": \"x\", \"y\": [244, 33, 314, 26, 325, 184, 1266, 292, 220, 293, 334, 249, 176, 1747, 232, 335, 460, 331, 318, 301, 1612, 59, 253], \"yaxis\": \"y\"}, {\"hoverlabel\": {\"namelength\": 0}, \"hovertemplate\": \"MAIN_CATEGORY_DESC=Bulk Beverages<br>DAY=%{x}<br>Count=%{y}\", \"legendgroup\": \"MAIN_CATEGORY_DESC=Bulk Beverages\", \"line\": {\"color\": \"#B6E880\", \"dash\": \"solid\"}, \"mode\": \"lines\", \"name\": \"MAIN_CATEGORY_DESC=Bulk Beverages\", \"showlegend\": true, \"textposition\": \"bottom right\", \"type\": \"scatter\", \"x\": [\"2020-09-02\", \"2020-09-05\", \"2020-09-07\", \"2020-09-08\", \"2020-09-09\", \"2020-09-10\", \"2020-09-11\", \"2020-09-12\", \"2020-09-13\", \"2020-09-14\", \"2020-09-15\", \"2020-09-16\", \"2020-09-17\", \"2020-09-18\", \"2020-09-19\", \"2020-09-21\", \"2020-09-22\", \"2020-09-23\", \"2020-09-24\"], \"xaxis\": \"x\", \"y\": [7, 4, 5, 6, 5, 9, 8, 10, 3, 8, 3, 4, 8, 13, 10, 6, 13, 6, 11], \"yaxis\": \"y\"}, {\"hoverlabel\": {\"namelength\": 0}, \"hovertemplate\": \"MAIN_CATEGORY_DESC=Catering<br>DAY=%{x}<br>Count=%{y}\", \"legendgroup\": \"MAIN_CATEGORY_DESC=Catering\", \"line\": {\"color\": \"#FF97FF\", \"dash\": \"solid\"}, \"mode\": \"lines\", \"name\": \"MAIN_CATEGORY_DESC=Catering\", \"showlegend\": true, \"textposition\": \"bottom right\", \"type\": \"scatter\", \"x\": [\"2020-09-02\", \"2020-09-03\", \"2020-09-04\", \"2020-09-05\", \"2020-09-06\", \"2020-09-07\", \"2020-09-08\", \"2020-09-09\", \"2020-09-10\", \"2020-09-11\", \"2020-09-12\", \"2020-09-13\", \"2020-09-14\", \"2020-09-15\", \"2020-09-16\", \"2020-09-17\", \"2020-09-18\", \"2020-09-19\", \"2020-09-20\", \"2020-09-21\", \"2020-09-22\", \"2020-09-23\", \"2020-09-24\"], \"xaxis\": \"x\", \"y\": [506, 16, 187, 145, 276, 121, 447, 571, 847, 444, 514, 229, 671, 950, 1166, 781, 665, 709, 424, 629, 1152, 848, 771], \"yaxis\": \"y\"}, {\"hoverlabel\": {\"namelength\": 0}, \"hovertemplate\": \"MAIN_CATEGORY_DESC=Coffee & Hot Tea<br>DAY=%{x}<br>Count=%{y}\", \"legendgroup\": \"MAIN_CATEGORY_DESC=Coffee & Hot Tea\", \"line\": {\"color\": \"#FECB52\", \"dash\": \"solid\"}, \"mode\": \"lines\", \"name\": \"MAIN_CATEGORY_DESC=Coffee & Hot Tea\", \"showlegend\": true, \"textposition\": \"bottom right\", \"type\": \"scatter\", \"x\": [\"2020-09-02\", \"2020-09-03\", \"2020-09-04\", \"2020-09-06\", \"2020-09-07\", \"2020-09-08\", \"2020-09-09\", \"2020-09-10\", \"2020-09-11\", \"2020-09-12\", \"2020-09-13\", \"2020-09-14\", \"2020-09-15\", \"2020-09-16\", \"2020-09-17\", \"2020-09-18\", \"2020-09-19\", \"2020-09-20\", \"2020-09-21\", \"2020-09-22\", \"2020-09-23\", \"2020-09-24\"], \"xaxis\": \"x\", \"y\": [1542, 43, 1098, 764, 901, 1072, 834, 744, 881, 870, 658, 580, 711, 658, 568, 698, 680, 543, 581, 676, 230, 517], \"yaxis\": \"y\"}, {\"hoverlabel\": {\"namelength\": 0}, \"hovertemplate\": \"MAIN_CATEGORY_DESC=Cream Cheese<br>DAY=%{x}<br>Count=%{y}\", \"legendgroup\": \"MAIN_CATEGORY_DESC=Cream Cheese\", \"line\": {\"color\": \"#636efa\", \"dash\": \"solid\"}, \"mode\": \"lines\", \"name\": \"MAIN_CATEGORY_DESC=Cream Cheese\", \"showlegend\": true, \"textposition\": \"bottom right\", \"type\": \"scatter\", \"x\": [\"2020-09-02\", \"2020-09-03\", \"2020-09-04\", \"2020-09-05\", \"2020-09-06\", \"2020-09-07\", \"2020-09-08\", \"2020-09-09\", \"2020-09-10\", \"2020-09-11\", \"2020-09-12\", \"2020-09-13\", \"2020-09-14\", \"2020-09-15\", \"2020-09-16\", \"2020-09-17\", \"2020-09-18\", \"2020-09-19\", \"2020-09-20\", \"2020-09-21\", \"2020-09-22\", \"2020-09-23\", \"2020-09-24\"], \"xaxis\": \"x\", \"y\": [184, 9, 161, 1, 152, 135, 164, 142, 155, 175, 193, 179, 137, 156, 143, 136, 147, 192, 191, 199, 204, 66, 152], \"yaxis\": \"y\"}, {\"hoverlabel\": {\"namelength\": 0}, \"hovertemplate\": \"MAIN_CATEGORY_DESC=Cream Cheese Tubs<br>DAY=%{x}<br>Count=%{y}\", \"legendgroup\": \"MAIN_CATEGORY_DESC=Cream Cheese Tubs\", \"line\": {\"color\": \"#EF553B\", \"dash\": \"solid\"}, \"mode\": \"lines\", \"name\": \"MAIN_CATEGORY_DESC=Cream Cheese Tubs\", \"showlegend\": true, \"textposition\": \"bottom right\", \"type\": \"scatter\", \"x\": [\"2020-09-02\", \"2020-09-03\", \"2020-09-04\", \"2020-09-05\", \"2020-09-06\", \"2020-09-07\", \"2020-09-08\", \"2020-09-09\", \"2020-09-10\", \"2020-09-11\", \"2020-09-12\", \"2020-09-13\", \"2020-09-14\", \"2020-09-15\", \"2020-09-16\", \"2020-09-17\", \"2020-09-18\", \"2020-09-19\", \"2020-09-20\", \"2020-09-21\", \"2020-09-22\", \"2020-09-23\", \"2020-09-24\"], \"xaxis\": \"x\", \"y\": [50, 4, 87, 7, 65, 53, 127, 65, 46, 96, 79, 56, 34, 213, 55, 53, 116, 73, 68, 50, 191, 10, 64], \"yaxis\": \"y\"}, {\"hoverlabel\": {\"namelength\": 0}, \"hovertemplate\": \"MAIN_CATEGORY_DESC=Descriptors<br>DAY=%{x}<br>Count=%{y}\", \"legendgroup\": \"MAIN_CATEGORY_DESC=Descriptors\", \"line\": {\"color\": \"#00cc96\", \"dash\": \"solid\"}, \"mode\": \"lines\", \"name\": \"MAIN_CATEGORY_DESC=Descriptors\", \"showlegend\": true, \"textposition\": \"bottom right\", \"type\": \"scatter\", \"x\": [\"2020-09-02\", \"2020-09-03\", \"2020-09-04\", \"2020-09-06\", \"2020-09-07\", \"2020-09-08\", \"2020-09-09\", \"2020-09-10\", \"2020-09-11\", \"2020-09-12\", \"2020-09-13\", \"2020-09-14\", \"2020-09-15\", \"2020-09-16\", \"2020-09-17\", \"2020-09-18\", \"2020-09-19\", \"2020-09-20\", \"2020-09-21\", \"2020-09-22\", \"2020-09-23\", \"2020-09-24\"], \"xaxis\": \"x\", \"y\": [156, 4, 169, 116, 121, 149, 129, 98, 134, 145, 120, 95, 159, 124, 112, 113, 170, 183, 265, 215, 58, 142], \"yaxis\": \"y\"}, {\"hoverlabel\": {\"namelength\": 0}, \"hovertemplate\": \"MAIN_CATEGORY_DESC=Espresso Beverages<br>DAY=%{x}<br>Count=%{y}\", \"legendgroup\": \"MAIN_CATEGORY_DESC=Espresso Beverages\", \"line\": {\"color\": \"#ab63fa\", \"dash\": \"solid\"}, \"mode\": \"lines\", \"name\": \"MAIN_CATEGORY_DESC=Espresso Beverages\", \"showlegend\": true, \"textposition\": \"bottom right\", \"type\": \"scatter\", \"x\": [\"2020-09-02\", \"2020-09-03\", \"2020-09-04\", \"2020-09-06\", \"2020-09-07\", \"2020-09-08\", \"2020-09-09\", \"2020-09-10\", \"2020-09-11\", \"2020-09-12\", \"2020-09-13\", \"2020-09-14\", \"2020-09-15\", \"2020-09-16\", \"2020-09-17\", \"2020-09-18\", \"2020-09-19\", \"2020-09-20\", \"2020-09-21\", \"2020-09-22\", \"2020-09-23\", \"2020-09-24\"], \"xaxis\": \"x\", \"y\": [86, 5, 98, 64, 79, 84, 76, 66, 91, 107, 66, 69, 68, 96, 88, 94, 150, 106, 73, 96, 42, 77], \"yaxis\": \"y\"}, {\"hoverlabel\": {\"namelength\": 0}, \"hovertemplate\": \"MAIN_CATEGORY_DESC=Extras & Miscellaneous<br>DAY=%{x}<br>Count=%{y}\", \"legendgroup\": \"MAIN_CATEGORY_DESC=Extras & Miscellaneous\", \"line\": {\"color\": \"#FFA15A\", \"dash\": \"solid\"}, \"mode\": \"lines\", \"name\": \"MAIN_CATEGORY_DESC=Extras & Miscellaneous\", \"showlegend\": true, \"textposition\": \"bottom right\", \"type\": \"scatter\", \"x\": [\"2020-09-02\", \"2020-09-03\", \"2020-09-04\", \"2020-09-06\", \"2020-09-07\", \"2020-09-08\", \"2020-09-09\", \"2020-09-10\", \"2020-09-11\", \"2020-09-12\", \"2020-09-13\", \"2020-09-14\", \"2020-09-15\", \"2020-09-16\", \"2020-09-17\", \"2020-09-18\", \"2020-09-19\", \"2020-09-20\", \"2020-09-21\", \"2020-09-22\", \"2020-09-23\", \"2020-09-24\"], \"xaxis\": \"x\", \"y\": [7, 1, 14, 8, 6, 10, 8, 11, 11, 3, 9, 10, 8, 9, 17, 15, 9, 13, 18, 16, 5, 11], \"yaxis\": \"y\"}, {\"hoverlabel\": {\"namelength\": 0}, \"hovertemplate\": \"MAIN_CATEGORY_DESC=Extras & Side Choices<br>DAY=%{x}<br>Count=%{y}\", \"legendgroup\": \"MAIN_CATEGORY_DESC=Extras & Side Choices\", \"line\": {\"color\": \"#19d3f3\", \"dash\": \"solid\"}, \"mode\": \"lines\", \"name\": \"MAIN_CATEGORY_DESC=Extras & Side Choices\", \"showlegend\": true, \"textposition\": \"bottom right\", \"type\": \"scatter\", \"x\": [\"2020-09-02\", \"2020-09-03\", \"2020-09-04\", \"2020-09-05\", \"2020-09-06\", \"2020-09-07\", \"2020-09-08\", \"2020-09-09\", \"2020-09-10\", \"2020-09-11\", \"2020-09-12\", \"2020-09-13\", \"2020-09-14\", \"2020-09-15\", \"2020-09-16\", \"2020-09-17\", \"2020-09-18\", \"2020-09-19\", \"2020-09-20\", \"2020-09-21\", \"2020-09-22\", \"2020-09-23\", \"2020-09-24\"], \"xaxis\": \"x\", \"y\": [17159, 942, 16793, 216, 10869, 10520, 15999, 14297, 14680, 17842, 16073, 11676, 12877, 16303, 15856, 14573, 17097, 15221, 12617, 15059, 17499, 6590, 13624], \"yaxis\": \"y\"}, {\"hoverlabel\": {\"namelength\": 0}, \"hovertemplate\": \"MAIN_CATEGORY_DESC=Family Feast<br>DAY=%{x}<br>Count=%{y}\", \"legendgroup\": \"MAIN_CATEGORY_DESC=Family Feast\", \"line\": {\"color\": \"#FF6692\", \"dash\": \"solid\"}, \"mode\": \"lines\", \"name\": \"MAIN_CATEGORY_DESC=Family Feast\", \"showlegend\": true, \"textposition\": \"bottom right\", \"type\": \"scatter\", \"x\": [\"2020-09-02\", \"2020-09-03\", \"2020-09-04\", \"2020-09-05\", \"2020-09-06\", \"2020-09-07\", \"2020-09-08\", \"2020-09-09\", \"2020-09-10\", \"2020-09-11\", \"2020-09-12\", \"2020-09-13\", \"2020-09-14\", \"2020-09-15\", \"2020-09-16\", \"2020-09-17\", \"2020-09-18\", \"2020-09-19\", \"2020-09-20\", \"2020-09-21\", \"2020-09-22\", \"2020-09-23\", \"2020-09-24\"], \"xaxis\": \"x\", \"y\": [152, 9, 257, 11, 204, 147, 123, 184, 274, 265, 198, 242, 146, 159, 171, 185, 199, 240, 249, 169, 198, 72, 142], \"yaxis\": \"y\"}, {\"hoverlabel\": {\"namelength\": 0}, \"hovertemplate\": \"MAIN_CATEGORY_DESC=Frozen Drinks & Smoothies<br>DAY=%{x}<br>Count=%{y}\", \"legendgroup\": \"MAIN_CATEGORY_DESC=Frozen Drinks & Smoothies\", \"line\": {\"color\": \"#B6E880\", \"dash\": \"solid\"}, \"mode\": \"lines\", \"name\": \"MAIN_CATEGORY_DESC=Frozen Drinks & Smoothies\", \"showlegend\": true, \"textposition\": \"bottom right\", \"type\": \"scatter\", \"x\": [\"2020-09-02\", \"2020-09-03\", \"2020-09-04\", \"2020-09-06\", \"2020-09-07\", \"2020-09-08\", \"2020-09-09\", \"2020-09-10\", \"2020-09-11\", \"2020-09-12\", \"2020-09-13\", \"2020-09-14\", \"2020-09-15\", \"2020-09-16\", \"2020-09-17\", \"2020-09-18\", \"2020-09-19\", \"2020-09-20\", \"2020-09-21\", \"2020-09-22\", \"2020-09-23\", \"2020-09-24\"], \"xaxis\": \"x\", \"y\": [171, 10, 199, 120, 134, 146, 152, 146, 170, 183, 144, 110, 129, 114, 104, 110, 134, 94, 104, 121, 44, 90], \"yaxis\": \"y\"}, {\"hoverlabel\": {\"namelength\": 0}, \"hovertemplate\": \"MAIN_CATEGORY_DESC=Individual Bagels<br>DAY=%{x}<br>Count=%{y}\", \"legendgroup\": \"MAIN_CATEGORY_DESC=Individual Bagels\", \"line\": {\"color\": \"#FF97FF\", \"dash\": \"solid\"}, \"mode\": \"lines\", \"name\": \"MAIN_CATEGORY_DESC=Individual Bagels\", \"showlegend\": true, \"textposition\": \"bottom right\", \"type\": \"scatter\", \"x\": [\"2020-09-02\", \"2020-09-03\", \"2020-09-04\", \"2020-09-06\", \"2020-09-07\", \"2020-09-08\", \"2020-09-09\", \"2020-09-10\", \"2020-09-11\", \"2020-09-12\", \"2020-09-13\", \"2020-09-14\", \"2020-09-15\", \"2020-09-16\", \"2020-09-17\", \"2020-09-18\", \"2020-09-19\", \"2020-09-20\", \"2020-09-21\", \"2020-09-22\", \"2020-09-23\", \"2020-09-24\"], \"xaxis\": \"x\", \"y\": [682, 15, 743, 554, 483, 1154, 507, 536, 682, 707, 587, 525, 1331, 592, 505, 659, 710, 724, 1064, 1513, 290, 623], \"yaxis\": \"y\"}, {\"hoverlabel\": {\"namelength\": 0}, \"hovertemplate\": \"MAIN_CATEGORY_DESC=Juice, Bottled Drinks, Milk<br>DAY=%{x}<br>Count=%{y}\", \"legendgroup\": \"MAIN_CATEGORY_DESC=Juice, Bottled Drinks, Milk\", \"line\": {\"color\": \"#FECB52\", \"dash\": \"solid\"}, \"mode\": \"lines\", \"name\": \"MAIN_CATEGORY_DESC=Juice, Bottled Drinks, Milk\", \"showlegend\": true, \"textposition\": \"bottom right\", \"type\": \"scatter\", \"x\": [\"2020-09-02\", \"2020-09-03\", \"2020-09-04\", \"2020-09-05\", \"2020-09-06\", \"2020-09-07\", \"2020-09-08\", \"2020-09-09\", \"2020-09-10\", \"2020-09-11\", \"2020-09-12\", \"2020-09-13\", \"2020-09-14\", \"2020-09-15\", \"2020-09-16\", \"2020-09-17\", \"2020-09-18\", \"2020-09-19\", \"2020-09-20\", \"2020-09-21\", \"2020-09-22\", \"2020-09-23\", \"2020-09-24\"], \"xaxis\": \"x\", \"y\": [80, 7, 78, 10, 56, 66, 68, 55, 65, 92, 98, 60, 56, 48, 79, 67, 66, 83, 62, 127, 64, 30, 79], \"yaxis\": \"y\"}, {\"hoverlabel\": {\"namelength\": 0}, \"hovertemplate\": \"MAIN_CATEGORY_DESC=Kids<br>DAY=%{x}<br>Count=%{y}\", \"legendgroup\": \"MAIN_CATEGORY_DESC=Kids\", \"line\": {\"color\": \"#636efa\", \"dash\": \"solid\"}, \"mode\": \"lines\", \"name\": \"MAIN_CATEGORY_DESC=Kids\", \"showlegend\": true, \"textposition\": \"bottom right\", \"type\": \"scatter\", \"x\": [\"2020-09-02\", \"2020-09-03\", \"2020-09-04\", \"2020-09-05\", \"2020-09-06\", \"2020-09-07\", \"2020-09-08\", \"2020-09-09\", \"2020-09-10\", \"2020-09-11\", \"2020-09-12\", \"2020-09-13\", \"2020-09-14\", \"2020-09-15\", \"2020-09-16\", \"2020-09-17\", \"2020-09-18\", \"2020-09-19\", \"2020-09-20\", \"2020-09-21\", \"2020-09-22\", \"2020-09-23\", \"2020-09-24\"], \"xaxis\": \"x\", \"y\": [79, 8, 89, 3, 94, 72, 65, 98, 85, 107, 129, 89, 75, 69, 86, 80, 88, 132, 112, 74, 84, 27, 74], \"yaxis\": \"y\"}, {\"hoverlabel\": {\"namelength\": 0}, \"hovertemplate\": \"MAIN_CATEGORY_DESC=Loaves & Miche<br>DAY=%{x}<br>Count=%{y}\", \"legendgroup\": \"MAIN_CATEGORY_DESC=Loaves & Miche\", \"line\": {\"color\": \"#EF553B\", \"dash\": \"solid\"}, \"mode\": \"lines\", \"name\": \"MAIN_CATEGORY_DESC=Loaves & Miche\", \"showlegend\": true, \"textposition\": \"bottom right\", \"type\": \"scatter\", \"x\": [\"2020-09-02\", \"2020-09-03\", \"2020-09-04\", \"2020-09-06\", \"2020-09-07\", \"2020-09-08\", \"2020-09-09\", \"2020-09-10\", \"2020-09-11\", \"2020-09-12\", \"2020-09-13\", \"2020-09-14\", \"2020-09-15\", \"2020-09-16\", \"2020-09-17\", \"2020-09-18\", \"2020-09-19\", \"2020-09-20\", \"2020-09-21\", \"2020-09-22\", \"2020-09-23\", \"2020-09-24\"], \"xaxis\": \"x\", \"y\": [75, 5, 89, 68, 61, 74, 80, 54, 87, 65, 64, 43, 84, 74, 49, 102, 95, 67, 66, 84, 21, 60], \"yaxis\": \"y\"}, {\"hoverlabel\": {\"namelength\": 0}, \"hovertemplate\": \"MAIN_CATEGORY_DESC=Merchandise<br>DAY=%{x}<br>Count=%{y}\", \"legendgroup\": \"MAIN_CATEGORY_DESC=Merchandise\", \"line\": {\"color\": \"#00cc96\", \"dash\": \"solid\"}, \"mode\": \"lines\", \"name\": \"MAIN_CATEGORY_DESC=Merchandise\", \"showlegend\": true, \"textposition\": \"bottom right\", \"type\": \"scatter\", \"x\": [\"2020-09-02\", \"2020-09-03\", \"2020-09-04\", \"2020-09-07\", \"2020-09-08\", \"2020-09-09\", \"2020-09-10\", \"2020-09-11\", \"2020-09-12\", \"2020-09-13\", \"2020-09-14\", \"2020-09-15\", \"2020-09-16\", \"2020-09-17\", \"2020-09-18\", \"2020-09-19\", \"2020-09-20\", \"2020-09-21\", \"2020-09-22\", \"2020-09-23\", \"2020-09-24\"], \"xaxis\": \"x\", \"y\": [9, 1, 5, 7, 1, 10, 2, 8, 8, 2, 5, 1, 6, 15, 3, 9, 4, 2, 7, 3, 4], \"yaxis\": \"y\"}, {\"hoverlabel\": {\"namelength\": 0}, \"hovertemplate\": \"MAIN_CATEGORY_DESC=Muffins & Muffies<br>DAY=%{x}<br>Count=%{y}\", \"legendgroup\": \"MAIN_CATEGORY_DESC=Muffins & Muffies\", \"line\": {\"color\": \"#ab63fa\", \"dash\": \"solid\"}, \"mode\": \"lines\", \"name\": \"MAIN_CATEGORY_DESC=Muffins & Muffies\", \"showlegend\": true, \"textposition\": \"bottom right\", \"type\": \"scatter\", \"x\": [\"2020-09-02\", \"2020-09-03\", \"2020-09-04\", \"2020-09-06\", \"2020-09-07\", \"2020-09-08\", \"2020-09-09\", \"2020-09-10\", \"2020-09-11\", \"2020-09-12\", \"2020-09-13\", \"2020-09-14\", \"2020-09-15\", \"2020-09-16\", \"2020-09-17\", \"2020-09-18\", \"2020-09-19\", \"2020-09-20\", \"2020-09-21\", \"2020-09-22\", \"2020-09-23\", \"2020-09-24\"], \"xaxis\": \"x\", \"y\": [238, 15, 229, 169, 148, 218, 175, 194, 272, 244, 183, 163, 218, 172, 190, 197, 226, 168, 164, 183, 71, 179], \"yaxis\": \"y\"}, {\"hoverlabel\": {\"namelength\": 0}, \"hovertemplate\": \"MAIN_CATEGORY_DESC=No History<br>DAY=%{x}<br>Count=%{y}\", \"legendgroup\": \"MAIN_CATEGORY_DESC=No History\", \"line\": {\"color\": \"#FFA15A\", \"dash\": \"solid\"}, \"mode\": \"lines\", \"name\": \"MAIN_CATEGORY_DESC=No History\", \"showlegend\": true, \"textposition\": \"bottom right\", \"type\": \"scatter\", \"x\": [\"2020-09-02\", \"2020-09-03\", \"2020-09-04\", \"2020-09-05\", \"2020-09-06\", \"2020-09-07\", \"2020-09-08\", \"2020-09-09\", \"2020-09-10\", \"2020-09-11\", \"2020-09-12\", \"2020-09-13\", \"2020-09-14\", \"2020-09-15\", \"2020-09-16\", \"2020-09-17\", \"2020-09-18\", \"2020-09-19\", \"2020-09-20\", \"2020-09-21\", \"2020-09-22\", \"2020-09-23\", \"2020-09-24\"], \"xaxis\": \"x\", \"y\": [1762, 106, 1664, 27, 1031, 975, 1630, 1352, 1412, 1757, 1497, 1093, 1241, 1630, 1488, 1421, 1673, 1377, 1167, 1409, 1755, 632, 1351], \"yaxis\": \"y\"}, {\"hoverlabel\": {\"namelength\": 0}, \"hovertemplate\": \"MAIN_CATEGORY_DESC=Other Bakery<br>DAY=%{x}<br>Count=%{y}\", \"legendgroup\": \"MAIN_CATEGORY_DESC=Other Bakery\", \"line\": {\"color\": \"#19d3f3\", \"dash\": \"solid\"}, \"mode\": \"lines\", \"name\": \"MAIN_CATEGORY_DESC=Other Bakery\", \"showlegend\": true, \"textposition\": \"bottom right\", \"type\": \"scatter\", \"x\": [\"2020-09-02\", \"2020-09-04\", \"2020-09-06\", \"2020-09-07\", \"2020-09-08\", \"2020-09-09\", \"2020-09-11\", \"2020-09-12\", \"2020-09-13\", \"2020-09-14\", \"2020-09-15\", \"2020-09-16\", \"2020-09-17\", \"2020-09-18\", \"2020-09-20\", \"2020-09-21\", \"2020-09-22\", \"2020-09-24\"], \"xaxis\": \"x\", \"y\": [3, 3, 7, 13, 9, 4, 5, 3, 1, 7, 4, 4, 2, 5, 6, 7, 4, 6], \"yaxis\": \"y\"}, {\"hoverlabel\": {\"namelength\": 0}, \"hovertemplate\": \"MAIN_CATEGORY_DESC=Parfait, Fruit, Cereal<br>DAY=%{x}<br>Count=%{y}\", \"legendgroup\": \"MAIN_CATEGORY_DESC=Parfait, Fruit, Cereal\", \"line\": {\"color\": \"#FF6692\", \"dash\": \"solid\"}, \"mode\": \"lines\", \"name\": \"MAIN_CATEGORY_DESC=Parfait, Fruit, Cereal\", \"showlegend\": true, \"textposition\": \"bottom right\", \"type\": \"scatter\", \"x\": [\"2020-09-02\", \"2020-09-03\", \"2020-09-04\", \"2020-09-06\", \"2020-09-07\", \"2020-09-08\", \"2020-09-09\", \"2020-09-10\", \"2020-09-11\", \"2020-09-12\", \"2020-09-13\", \"2020-09-14\", \"2020-09-15\", \"2020-09-16\", \"2020-09-17\", \"2020-09-18\", \"2020-09-19\", \"2020-09-20\", \"2020-09-21\", \"2020-09-22\", \"2020-09-23\", \"2020-09-24\"], \"xaxis\": \"x\", \"y\": [70, 5, 66, 54, 60, 45, 38, 50, 62, 75, 52, 44, 43, 57, 44, 47, 56, 51, 67, 37, 15, 36], \"yaxis\": \"y\"}, {\"hoverlabel\": {\"namelength\": 0}, \"hovertemplate\": \"MAIN_CATEGORY_DESC=Pasta<br>DAY=%{x}<br>Count=%{y}\", \"legendgroup\": \"MAIN_CATEGORY_DESC=Pasta\", \"line\": {\"color\": \"#B6E880\", \"dash\": \"solid\"}, \"mode\": \"lines\", \"name\": \"MAIN_CATEGORY_DESC=Pasta\", \"showlegend\": true, \"textposition\": \"bottom right\", \"type\": \"scatter\", \"x\": [\"2020-09-02\", \"2020-09-03\", \"2020-09-04\", \"2020-09-05\", \"2020-09-06\", \"2020-09-07\", \"2020-09-08\", \"2020-09-09\", \"2020-09-10\", \"2020-09-11\", \"2020-09-12\", \"2020-09-13\", \"2020-09-14\", \"2020-09-15\", \"2020-09-16\", \"2020-09-17\", \"2020-09-18\", \"2020-09-19\", \"2020-09-20\", \"2020-09-21\", \"2020-09-22\", \"2020-09-23\", \"2020-09-24\"], \"xaxis\": \"x\", \"y\": [122, 9, 108, 2, 70, 71, 106, 91, 127, 140, 157, 116, 85, 127, 137, 151, 220, 178, 148, 164, 215, 88, 219], \"yaxis\": \"y\"}, {\"hoverlabel\": {\"namelength\": 0}, \"hovertemplate\": \"MAIN_CATEGORY_DESC=Pastries<br>DAY=%{x}<br>Count=%{y}\", \"legendgroup\": \"MAIN_CATEGORY_DESC=Pastries\", \"line\": {\"color\": \"#FF97FF\", \"dash\": \"solid\"}, \"mode\": \"lines\", \"name\": \"MAIN_CATEGORY_DESC=Pastries\", \"showlegend\": true, \"textposition\": \"bottom right\", \"type\": \"scatter\", \"x\": [\"2020-09-02\", \"2020-09-03\", \"2020-09-04\", \"2020-09-06\", \"2020-09-07\", \"2020-09-08\", \"2020-09-09\", \"2020-09-10\", \"2020-09-11\", \"2020-09-12\", \"2020-09-13\", \"2020-09-14\", \"2020-09-15\", \"2020-09-16\", \"2020-09-17\", \"2020-09-18\", \"2020-09-19\", \"2020-09-20\", \"2020-09-21\", \"2020-09-22\", \"2020-09-23\", \"2020-09-24\"], \"xaxis\": \"x\", \"y\": [482, 33, 535, 313, 359, 451, 428, 356, 466, 486, 397, 347, 394, 387, 314, 415, 431, 343, 326, 381, 153, 362], \"yaxis\": \"y\"}, {\"hoverlabel\": {\"namelength\": 0}, \"hovertemplate\": \"MAIN_CATEGORY_DESC=Salads<br>DAY=%{x}<br>Count=%{y}\", \"legendgroup\": \"MAIN_CATEGORY_DESC=Salads\", \"line\": {\"color\": \"#FECB52\", \"dash\": \"solid\"}, \"mode\": \"lines\", \"name\": \"MAIN_CATEGORY_DESC=Salads\", \"showlegend\": true, \"textposition\": \"bottom right\", \"type\": \"scatter\", \"x\": [\"2020-09-02\", \"2020-09-03\", \"2020-09-04\", \"2020-09-05\", \"2020-09-06\", \"2020-09-07\", \"2020-09-08\", \"2020-09-09\", \"2020-09-10\", \"2020-09-11\", \"2020-09-12\", \"2020-09-13\", \"2020-09-14\", \"2020-09-15\", \"2020-09-16\", \"2020-09-17\", \"2020-09-18\", \"2020-09-19\", \"2020-09-20\", \"2020-09-21\", \"2020-09-22\", \"2020-09-23\", \"2020-09-24\"], \"xaxis\": \"x\", \"y\": [783, 40, 864, 12, 482, 510, 776, 712, 760, 860, 710, 543, 591, 738, 790, 678, 812, 600, 539, 626, 660, 303, 578], \"yaxis\": \"y\"}, {\"hoverlabel\": {\"namelength\": 0}, \"hovertemplate\": \"MAIN_CATEGORY_DESC=Sandwiches<br>DAY=%{x}<br>Count=%{y}\", \"legendgroup\": \"MAIN_CATEGORY_DESC=Sandwiches\", \"line\": {\"color\": \"#636efa\", \"dash\": \"solid\"}, \"mode\": \"lines\", \"name\": \"MAIN_CATEGORY_DESC=Sandwiches\", \"showlegend\": true, \"textposition\": \"bottom right\", \"type\": \"scatter\", \"x\": [\"2020-09-02\", \"2020-09-03\", \"2020-09-04\", \"2020-09-05\", \"2020-09-06\", \"2020-09-07\", \"2020-09-08\", \"2020-09-09\", \"2020-09-10\", \"2020-09-11\", \"2020-09-12\", \"2020-09-13\", \"2020-09-14\", \"2020-09-15\", \"2020-09-16\", \"2020-09-17\", \"2020-09-18\", \"2020-09-19\", \"2020-09-20\", \"2020-09-21\", \"2020-09-22\", \"2020-09-23\", \"2020-09-24\"], \"xaxis\": \"x\", \"y\": [843, 43, 901, 10, 564, 604, 669, 724, 757, 931, 874, 639, 608, 764, 894, 833, 934, 862, 765, 808, 928, 312, 788], \"yaxis\": \"y\"}, {\"hoverlabel\": {\"namelength\": 0}, \"hovertemplate\": \"MAIN_CATEGORY_DESC=Scones<br>DAY=%{x}<br>Count=%{y}\", \"legendgroup\": \"MAIN_CATEGORY_DESC=Scones\", \"line\": {\"color\": \"#EF553B\", \"dash\": \"solid\"}, \"mode\": \"lines\", \"name\": \"MAIN_CATEGORY_DESC=Scones\", \"showlegend\": true, \"textposition\": \"bottom right\", \"type\": \"scatter\", \"x\": [\"2020-09-02\", \"2020-09-03\", \"2020-09-04\", \"2020-09-06\", \"2020-09-07\", \"2020-09-08\", \"2020-09-09\", \"2020-09-10\", \"2020-09-11\", \"2020-09-12\", \"2020-09-13\", \"2020-09-14\", \"2020-09-15\", \"2020-09-16\", \"2020-09-17\", \"2020-09-18\", \"2020-09-19\", \"2020-09-20\", \"2020-09-21\", \"2020-09-22\", \"2020-09-23\", \"2020-09-24\"], \"xaxis\": \"x\", \"y\": [114, 9, 131, 93, 84, 97, 109, 95, 121, 111, 88, 95, 98, 112, 99, 116, 128, 100, 112, 116, 34, 103], \"yaxis\": \"y\"}, {\"hoverlabel\": {\"namelength\": 0}, \"hovertemplate\": \"MAIN_CATEGORY_DESC=Souffles<br>DAY=%{x}<br>Count=%{y}\", \"legendgroup\": \"MAIN_CATEGORY_DESC=Souffles\", \"line\": {\"color\": \"#00cc96\", \"dash\": \"solid\"}, \"mode\": \"lines\", \"name\": \"MAIN_CATEGORY_DESC=Souffles\", \"showlegend\": true, \"textposition\": \"bottom right\", \"type\": \"scatter\", \"x\": [\"2020-09-02\", \"2020-09-03\", \"2020-09-04\", \"2020-09-06\", \"2020-09-07\", \"2020-09-08\", \"2020-09-09\", \"2020-09-10\", \"2020-09-11\", \"2020-09-12\", \"2020-09-13\", \"2020-09-14\", \"2020-09-15\", \"2020-09-16\", \"2020-09-17\", \"2020-09-18\", \"2020-09-19\", \"2020-09-20\", \"2020-09-21\", \"2020-09-22\", \"2020-09-23\", \"2020-09-24\"], \"xaxis\": \"x\", \"y\": [95, 7, 97, 106, 85, 108, 75, 69, 98, 123, 128, 53, 96, 107, 74, 79, 136, 91, 52, 69, 41, 71], \"yaxis\": \"y\"}, {\"hoverlabel\": {\"namelength\": 0}, \"hovertemplate\": \"MAIN_CATEGORY_DESC=Soup<br>DAY=%{x}<br>Count=%{y}\", \"legendgroup\": \"MAIN_CATEGORY_DESC=Soup\", \"line\": {\"color\": \"#ab63fa\", \"dash\": \"solid\"}, \"mode\": \"lines\", \"name\": \"MAIN_CATEGORY_DESC=Soup\", \"showlegend\": true, \"textposition\": \"bottom right\", \"type\": \"scatter\", \"x\": [\"2020-09-02\", \"2020-09-03\", \"2020-09-04\", \"2020-09-06\", \"2020-09-07\", \"2020-09-08\", \"2020-09-09\", \"2020-09-10\", \"2020-09-11\", \"2020-09-12\", \"2020-09-13\", \"2020-09-14\", \"2020-09-15\", \"2020-09-16\", \"2020-09-17\", \"2020-09-18\", \"2020-09-19\", \"2020-09-20\", \"2020-09-21\", \"2020-09-22\", \"2020-09-23\", \"2020-09-24\"], \"xaxis\": \"x\", \"y\": [470, 19, 502, 276, 323, 501, 561, 546, 611, 512, 398, 426, 530, 577, 602, 637, 658, 538, 589, 637, 218, 524], \"yaxis\": \"y\"}, {\"hoverlabel\": {\"namelength\": 0}, \"hovertemplate\": \"MAIN_CATEGORY_DESC=Sweet Goods Gifting<br>DAY=%{x}<br>Count=%{y}\", \"legendgroup\": \"MAIN_CATEGORY_DESC=Sweet Goods Gifting\", \"line\": {\"color\": \"#FFA15A\", \"dash\": \"solid\"}, \"mode\": \"lines\", \"name\": \"MAIN_CATEGORY_DESC=Sweet Goods Gifting\", \"showlegend\": true, \"textposition\": \"bottom right\", \"type\": \"scatter\", \"x\": [\"2020-09-02\", \"2020-09-03\", \"2020-09-04\", \"2020-09-05\", \"2020-09-06\", \"2020-09-07\", \"2020-09-08\", \"2020-09-09\", \"2020-09-10\", \"2020-09-11\", \"2020-09-12\", \"2020-09-13\", \"2020-09-14\", \"2020-09-15\", \"2020-09-16\", \"2020-09-17\", \"2020-09-18\", \"2020-09-19\", \"2020-09-20\", \"2020-09-21\", \"2020-09-22\", \"2020-09-23\", \"2020-09-24\"], \"xaxis\": \"x\", \"y\": [83, 8, 102, 5, 59, 55, 56, 76, 78, 133, 100, 45, 52, 86, 65, 73, 78, 78, 57, 87, 76, 28, 83], \"yaxis\": \"y\"}, {\"hoverlabel\": {\"namelength\": 0}, \"hovertemplate\": \"MAIN_CATEGORY_DESC=Take Home Soup<br>DAY=%{x}<br>Count=%{y}\", \"legendgroup\": \"MAIN_CATEGORY_DESC=Take Home Soup\", \"line\": {\"color\": \"#19d3f3\", \"dash\": \"solid\"}, \"mode\": \"lines\", \"name\": \"MAIN_CATEGORY_DESC=Take Home Soup\", \"showlegend\": true, \"textposition\": \"bottom right\", \"type\": \"scatter\", \"x\": [\"2020-09-02\", \"2020-09-03\", \"2020-09-04\", \"2020-09-06\", \"2020-09-07\", \"2020-09-08\", \"2020-09-09\", \"2020-09-10\", \"2020-09-11\", \"2020-09-12\", \"2020-09-13\", \"2020-09-14\", \"2020-09-15\", \"2020-09-16\", \"2020-09-17\", \"2020-09-18\", \"2020-09-19\", \"2020-09-20\", \"2020-09-21\", \"2020-09-22\", \"2020-09-23\", \"2020-09-24\"], \"xaxis\": \"x\", \"y\": [12, 1, 7, 10, 11, 27, 13, 21, 13, 9, 22, 15, 17, 14, 25, 22, 33, 12, 28, 31, 15, 15], \"yaxis\": \"y\"}, {\"hoverlabel\": {\"namelength\": 0}, \"hovertemplate\": \"MAIN_CATEGORY_DESC=U Pick 2<br>DAY=%{x}<br>Count=%{y}\", \"legendgroup\": \"MAIN_CATEGORY_DESC=U Pick 2\", \"line\": {\"color\": \"#FF6692\", \"dash\": \"solid\"}, \"mode\": \"lines\", \"name\": \"MAIN_CATEGORY_DESC=U Pick 2\", \"showlegend\": true, \"textposition\": \"bottom right\", \"type\": \"scatter\", \"x\": [\"2020-09-02\", \"2020-09-03\", \"2020-09-04\", \"2020-09-05\", \"2020-09-06\", \"2020-09-07\", \"2020-09-08\", \"2020-09-09\", \"2020-09-10\", \"2020-09-11\", \"2020-09-12\", \"2020-09-13\", \"2020-09-14\", \"2020-09-15\", \"2020-09-16\", \"2020-09-17\", \"2020-09-18\", \"2020-09-19\", \"2020-09-20\", \"2020-09-21\", \"2020-09-22\", \"2020-09-23\", \"2020-09-24\"], \"xaxis\": \"x\", \"y\": [3786, 234, 4197, 36, 2622, 2529, 3956, 3868, 3996, 5269, 4722, 3366, 3813, 4350, 4491, 4219, 5139, 4582, 3616, 4363, 4573, 1884, 3845], \"yaxis\": \"y\"}, {\"hoverlabel\": {\"namelength\": 0}, \"hovertemplate\": \"MAIN_CATEGORY_DESC=Panera Grocery<br>DAY=%{x}<br>Count=%{y}\", \"legendgroup\": \"MAIN_CATEGORY_DESC=Panera Grocery\", \"line\": {\"color\": \"#B6E880\", \"dash\": \"solid\"}, \"mode\": \"lines\", \"name\": \"MAIN_CATEGORY_DESC=Panera Grocery\", \"showlegend\": true, \"textposition\": \"bottom right\", \"type\": \"scatter\", \"x\": [\"2020-09-04\", \"2020-09-06\", \"2020-09-08\", \"2020-09-10\", \"2020-09-12\", \"2020-09-13\", \"2020-09-14\", \"2020-09-15\", \"2020-09-19\", \"2020-09-20\", \"2020-09-24\"], \"xaxis\": \"x\", \"y\": [2, 1, 2, 3, 2, 2, 1, 2, 2, 1, 1], \"yaxis\": \"y\"}, {\"hoverlabel\": {\"namelength\": 0}, \"hovertemplate\": \"MAIN_CATEGORY_DESC=Unassigned<br>DAY=%{x}<br>Count=%{y}\", \"legendgroup\": \"MAIN_CATEGORY_DESC=Unassigned\", \"line\": {\"color\": \"#FF97FF\", \"dash\": \"solid\"}, \"mode\": \"lines\", \"name\": \"MAIN_CATEGORY_DESC=Unassigned\", \"showlegend\": true, \"textposition\": \"bottom right\", \"type\": \"scatter\", \"x\": [\"2020-09-06\", \"2020-09-11\", \"2020-09-12\", \"2020-09-13\", \"2020-09-14\", \"2020-09-15\", \"2020-09-16\", \"2020-09-20\", \"2020-09-22\", \"2020-09-24\"], \"xaxis\": \"x\", \"y\": [2, 1, 2, 2, 1, 1, 1, 2, 1, 1], \"yaxis\": \"y\"}],\n",
              "                        {\"legend\": {\"tracegroupgap\": 0}, \"margin\": {\"t\": 60}, \"template\": {\"data\": {\"bar\": [{\"error_x\": {\"color\": \"#2a3f5f\"}, \"error_y\": {\"color\": \"#2a3f5f\"}, \"marker\": {\"line\": {\"color\": \"#E5ECF6\", \"width\": 0.5}}, \"type\": \"bar\"}], \"barpolar\": [{\"marker\": {\"line\": {\"color\": \"#E5ECF6\", \"width\": 0.5}}, \"type\": \"barpolar\"}], \"carpet\": [{\"aaxis\": {\"endlinecolor\": \"#2a3f5f\", \"gridcolor\": \"white\", \"linecolor\": \"white\", \"minorgridcolor\": \"white\", \"startlinecolor\": \"#2a3f5f\"}, \"baxis\": {\"endlinecolor\": \"#2a3f5f\", \"gridcolor\": \"white\", \"linecolor\": \"white\", \"minorgridcolor\": \"white\", \"startlinecolor\": \"#2a3f5f\"}, \"type\": \"carpet\"}], \"choropleth\": [{\"colorbar\": {\"outlinewidth\": 0, \"ticks\": \"\"}, \"type\": \"choropleth\"}], \"contour\": [{\"colorbar\": {\"outlinewidth\": 0, \"ticks\": \"\"}, \"colorscale\": [[0.0, \"#0d0887\"], [0.1111111111111111, \"#46039f\"], [0.2222222222222222, \"#7201a8\"], [0.3333333333333333, \"#9c179e\"], [0.4444444444444444, \"#bd3786\"], [0.5555555555555556, \"#d8576b\"], [0.6666666666666666, \"#ed7953\"], [0.7777777777777778, \"#fb9f3a\"], [0.8888888888888888, \"#fdca26\"], [1.0, \"#f0f921\"]], \"type\": \"contour\"}], \"contourcarpet\": [{\"colorbar\": {\"outlinewidth\": 0, \"ticks\": \"\"}, \"type\": \"contourcarpet\"}], \"heatmap\": [{\"colorbar\": {\"outlinewidth\": 0, \"ticks\": \"\"}, \"colorscale\": [[0.0, \"#0d0887\"], [0.1111111111111111, \"#46039f\"], [0.2222222222222222, \"#7201a8\"], [0.3333333333333333, \"#9c179e\"], [0.4444444444444444, \"#bd3786\"], [0.5555555555555556, \"#d8576b\"], [0.6666666666666666, \"#ed7953\"], [0.7777777777777778, \"#fb9f3a\"], [0.8888888888888888, \"#fdca26\"], [1.0, \"#f0f921\"]], \"type\": \"heatmap\"}], \"heatmapgl\": [{\"colorbar\": {\"outlinewidth\": 0, \"ticks\": \"\"}, \"colorscale\": [[0.0, \"#0d0887\"], [0.1111111111111111, \"#46039f\"], [0.2222222222222222, \"#7201a8\"], [0.3333333333333333, \"#9c179e\"], [0.4444444444444444, \"#bd3786\"], [0.5555555555555556, \"#d8576b\"], [0.6666666666666666, \"#ed7953\"], [0.7777777777777778, \"#fb9f3a\"], [0.8888888888888888, \"#fdca26\"], [1.0, \"#f0f921\"]], \"type\": \"heatmapgl\"}], \"histogram\": [{\"marker\": {\"colorbar\": {\"outlinewidth\": 0, \"ticks\": \"\"}}, \"type\": \"histogram\"}], \"histogram2d\": [{\"colorbar\": {\"outlinewidth\": 0, \"ticks\": \"\"}, \"colorscale\": [[0.0, \"#0d0887\"], [0.1111111111111111, \"#46039f\"], [0.2222222222222222, \"#7201a8\"], [0.3333333333333333, \"#9c179e\"], [0.4444444444444444, \"#bd3786\"], [0.5555555555555556, \"#d8576b\"], [0.6666666666666666, \"#ed7953\"], [0.7777777777777778, \"#fb9f3a\"], [0.8888888888888888, \"#fdca26\"], [1.0, \"#f0f921\"]], \"type\": \"histogram2d\"}], \"histogram2dcontour\": [{\"colorbar\": {\"outlinewidth\": 0, \"ticks\": \"\"}, \"colorscale\": [[0.0, \"#0d0887\"], [0.1111111111111111, \"#46039f\"], [0.2222222222222222, \"#7201a8\"], [0.3333333333333333, \"#9c179e\"], [0.4444444444444444, \"#bd3786\"], [0.5555555555555556, \"#d8576b\"], [0.6666666666666666, \"#ed7953\"], [0.7777777777777778, \"#fb9f3a\"], [0.8888888888888888, \"#fdca26\"], [1.0, \"#f0f921\"]], \"type\": \"histogram2dcontour\"}], \"mesh3d\": [{\"colorbar\": {\"outlinewidth\": 0, \"ticks\": \"\"}, \"type\": \"mesh3d\"}], \"parcoords\": [{\"line\": {\"colorbar\": {\"outlinewidth\": 0, \"ticks\": \"\"}}, \"type\": \"parcoords\"}], \"pie\": [{\"automargin\": true, \"type\": \"pie\"}], \"scatter\": [{\"marker\": {\"colorbar\": {\"outlinewidth\": 0, \"ticks\": \"\"}}, \"type\": \"scatter\"}], \"scatter3d\": [{\"line\": {\"colorbar\": {\"outlinewidth\": 0, \"ticks\": \"\"}}, \"marker\": {\"colorbar\": {\"outlinewidth\": 0, \"ticks\": \"\"}}, \"type\": \"scatter3d\"}], \"scattercarpet\": [{\"marker\": {\"colorbar\": {\"outlinewidth\": 0, \"ticks\": \"\"}}, \"type\": \"scattercarpet\"}], \"scattergeo\": [{\"marker\": {\"colorbar\": {\"outlinewidth\": 0, \"ticks\": \"\"}}, \"type\": \"scattergeo\"}], \"scattergl\": [{\"marker\": {\"colorbar\": {\"outlinewidth\": 0, \"ticks\": \"\"}}, \"type\": \"scattergl\"}], \"scattermapbox\": [{\"marker\": {\"colorbar\": {\"outlinewidth\": 0, \"ticks\": \"\"}}, \"type\": \"scattermapbox\"}], \"scatterpolar\": [{\"marker\": {\"colorbar\": {\"outlinewidth\": 0, \"ticks\": \"\"}}, \"type\": \"scatterpolar\"}], \"scatterpolargl\": [{\"marker\": {\"colorbar\": {\"outlinewidth\": 0, \"ticks\": \"\"}}, \"type\": \"scatterpolargl\"}], \"scatterternary\": [{\"marker\": {\"colorbar\": {\"outlinewidth\": 0, \"ticks\": \"\"}}, \"type\": \"scatterternary\"}], \"surface\": [{\"colorbar\": {\"outlinewidth\": 0, \"ticks\": \"\"}, \"colorscale\": [[0.0, \"#0d0887\"], [0.1111111111111111, \"#46039f\"], [0.2222222222222222, \"#7201a8\"], [0.3333333333333333, \"#9c179e\"], [0.4444444444444444, \"#bd3786\"], [0.5555555555555556, \"#d8576b\"], [0.6666666666666666, \"#ed7953\"], [0.7777777777777778, \"#fb9f3a\"], [0.8888888888888888, \"#fdca26\"], [1.0, \"#f0f921\"]], \"type\": \"surface\"}], \"table\": [{\"cells\": {\"fill\": {\"color\": \"#EBF0F8\"}, \"line\": {\"color\": \"white\"}}, \"header\": {\"fill\": {\"color\": \"#C8D4E3\"}, \"line\": {\"color\": \"white\"}}, \"type\": \"table\"}]}, \"layout\": {\"annotationdefaults\": {\"arrowcolor\": \"#2a3f5f\", \"arrowhead\": 0, \"arrowwidth\": 1}, \"coloraxis\": {\"colorbar\": {\"outlinewidth\": 0, \"ticks\": \"\"}}, \"colorscale\": {\"diverging\": [[0, \"#8e0152\"], [0.1, \"#c51b7d\"], [0.2, \"#de77ae\"], [0.3, \"#f1b6da\"], [0.4, \"#fde0ef\"], [0.5, \"#f7f7f7\"], [0.6, \"#e6f5d0\"], [0.7, \"#b8e186\"], [0.8, \"#7fbc41\"], [0.9, \"#4d9221\"], [1, \"#276419\"]], \"sequential\": [[0.0, \"#0d0887\"], [0.1111111111111111, \"#46039f\"], [0.2222222222222222, \"#7201a8\"], [0.3333333333333333, \"#9c179e\"], [0.4444444444444444, \"#bd3786\"], [0.5555555555555556, \"#d8576b\"], [0.6666666666666666, \"#ed7953\"], [0.7777777777777778, \"#fb9f3a\"], [0.8888888888888888, \"#fdca26\"], [1.0, \"#f0f921\"]], \"sequentialminus\": [[0.0, \"#0d0887\"], [0.1111111111111111, \"#46039f\"], [0.2222222222222222, \"#7201a8\"], [0.3333333333333333, \"#9c179e\"], [0.4444444444444444, \"#bd3786\"], [0.5555555555555556, \"#d8576b\"], [0.6666666666666666, \"#ed7953\"], [0.7777777777777778, \"#fb9f3a\"], [0.8888888888888888, \"#fdca26\"], [1.0, \"#f0f921\"]]}, \"colorway\": [\"#636efa\", \"#EF553B\", \"#00cc96\", \"#ab63fa\", \"#FFA15A\", \"#19d3f3\", \"#FF6692\", \"#B6E880\", \"#FF97FF\", \"#FECB52\"], \"font\": {\"color\": \"#2a3f5f\"}, \"geo\": {\"bgcolor\": \"white\", \"lakecolor\": \"white\", \"landcolor\": \"#E5ECF6\", \"showlakes\": true, \"showland\": true, \"subunitcolor\": \"white\"}, \"hoverlabel\": {\"align\": \"left\"}, \"hovermode\": \"closest\", \"mapbox\": {\"style\": \"light\"}, \"paper_bgcolor\": \"white\", \"plot_bgcolor\": \"#E5ECF6\", \"polar\": {\"angularaxis\": {\"gridcolor\": \"white\", \"linecolor\": \"white\", \"ticks\": \"\"}, \"bgcolor\": \"#E5ECF6\", \"radialaxis\": {\"gridcolor\": \"white\", \"linecolor\": \"white\", \"ticks\": \"\"}}, \"scene\": {\"xaxis\": {\"backgroundcolor\": \"#E5ECF6\", \"gridcolor\": \"white\", \"gridwidth\": 2, \"linecolor\": \"white\", \"showbackground\": true, \"ticks\": \"\", \"zerolinecolor\": \"white\"}, \"yaxis\": {\"backgroundcolor\": \"#E5ECF6\", \"gridcolor\": \"white\", \"gridwidth\": 2, \"linecolor\": \"white\", \"showbackground\": true, \"ticks\": \"\", \"zerolinecolor\": \"white\"}, \"zaxis\": {\"backgroundcolor\": \"#E5ECF6\", \"gridcolor\": \"white\", \"gridwidth\": 2, \"linecolor\": \"white\", \"showbackground\": true, \"ticks\": \"\", \"zerolinecolor\": \"white\"}}, \"shapedefaults\": {\"line\": {\"color\": \"#2a3f5f\"}}, \"ternary\": {\"aaxis\": {\"gridcolor\": \"white\", \"linecolor\": \"white\", \"ticks\": \"\"}, \"baxis\": {\"gridcolor\": \"white\", \"linecolor\": \"white\", \"ticks\": \"\"}, \"bgcolor\": \"#E5ECF6\", \"caxis\": {\"gridcolor\": \"white\", \"linecolor\": \"white\", \"ticks\": \"\"}}, \"title\": {\"x\": 0.05}, \"xaxis\": {\"automargin\": true, \"gridcolor\": \"white\", \"linecolor\": \"white\", \"ticks\": \"\", \"title\": {\"standoff\": 15}, \"zerolinecolor\": \"white\", \"zerolinewidth\": 2}, \"yaxis\": {\"automargin\": true, \"gridcolor\": \"white\", \"linecolor\": \"white\", \"ticks\": \"\", \"title\": {\"standoff\": 15}, \"zerolinecolor\": \"white\", \"zerolinewidth\": 2}}}, \"title\": {\"text\": \"The purchase of main category products throughtout the September by item\"}, \"xaxis\": {\"anchor\": \"y\", \"domain\": [0.0, 1.0], \"title\": {\"text\": \"Day\"}}, \"yaxis\": {\"anchor\": \"x\", \"domain\": [0.0, 1.0], \"title\": {\"text\": \"Total\"}}},\n",
              "                        {\"responsive\": true}\n",
              "                    ).then(function(){\n",
              "                            \n",
              "var gd = document.getElementById('6fc0a07e-94ec-4cc1-95f9-fd3adb97f88e');\n",
              "var x = new MutationObserver(function (mutations, observer) {{\n",
              "        var display = window.getComputedStyle(gd).display;\n",
              "        if (!display || display === 'none') {{\n",
              "            console.log([gd, 'removed!']);\n",
              "            Plotly.purge(gd);\n",
              "            observer.disconnect();\n",
              "        }}\n",
              "}});\n",
              "\n",
              "// Listen for the removal of the full notebook cells\n",
              "var notebookContainer = gd.closest('#notebook-container');\n",
              "if (notebookContainer) {{\n",
              "    x.observe(notebookContainer, {childList: true});\n",
              "}}\n",
              "\n",
              "// Listen for the clearing of the current output cell\n",
              "var outputEl = gd.closest('.output');\n",
              "if (outputEl) {{\n",
              "    x.observe(outputEl, {childList: true});\n",
              "}}\n",
              "\n",
              "                        })\n",
              "                };\n",
              "                \n",
              "            </script>\n",
              "        </div>\n",
              "</body>\n",
              "</html>"
            ]
          },
          "metadata": {}
        }
      ]
    },
    {
      "cell_type": "markdown",
      "source": [
        "While we initially focused our analysis to the common purchased items, we can investigate further by analyzing the least purchased items by going through product descr, and comments columns."
      ],
      "metadata": {
        "id": "v9wsdyZIWyN8"
      }
    },
    {
      "cell_type": "markdown",
      "source": [
        "# **Text Summarization**"
      ],
      "metadata": {
        "id": "dN6qGQ8m6OlB"
      }
    },
    {
      "cell_type": "markdown",
      "source": [
        "Since we found that Extras & Side Choices are mostly purchased items, lets analyze how customers feel about their purchase by using Text Summarization technique. We will be using gensim to summarize few text from the comments column. "
      ],
      "metadata": {
        "id": "060N3aqz5eTl"
      }
    },
    {
      "cell_type": "code",
      "source": [
        "extras_and_sides = df[df['MAIN_CATEGORY_DESC'].isin(['Extras & Side Choices'])]"
      ],
      "metadata": {
        "id": "veuG2PNxN3dj"
      },
      "execution_count": 19,
      "outputs": []
    },
    {
      "cell_type": "code",
      "source": [
        "extras_and_sides = extras_and_sides[['MAIN_CATEGORY_DESC', 'COMMENTS']]"
      ],
      "metadata": {
        "id": "yauaPxX4M1MN"
      },
      "execution_count": 20,
      "outputs": []
    },
    {
      "cell_type": "code",
      "source": [
        "#only analyze the few rows in comments column\n",
        "few_text = extras_and_sides['COMMENTS'].iloc[2:23]"
      ],
      "metadata": {
        "id": "FEaFD9iD2iIQ"
      },
      "execution_count": 27,
      "outputs": []
    },
    {
      "cell_type": "code",
      "source": [
        "original_text = few_text.str.cat(sep=', ')"
      ],
      "metadata": {
        "id": "QpO2WqdHQdNi"
      },
      "execution_count": 28,
      "outputs": []
    },
    {
      "cell_type": "code",
      "source": [
        "original_text"
      ],
      "metadata": {
        "colab": {
          "base_uri": "https://localhost:8080/",
          "height": 463
        },
        "id": "56qcllY74Cw0",
        "outputId": "412071cb-b58c-4ff8-cccf-ac0827c4ab89"
      },
      "execution_count": 29,
      "outputs": [
        {
          "output_type": "execute_result",
          "data": {
            "application/vnd.google.colaboratory.intrinsic+json": {
              "type": "string"
            },
            "text/plain": [
              "\"I eat at Panera everyday for breakfast because I love the breakfast sandwiches and the coffee subscription. Can't say enough about the employees. They are the real reason I eat here every day. I also purchase the 20% discount gift card. Tomorrow I get a free ???? bagel in the am and a free half sandwich in pm. Thank you, I love the coffee club, It has been at least 6 months since my last visit to Panera Bread.  I really miss those outings.  The Panera staff have always been excellent.  Establishment Clean & well run.   \\n\\nMy last two visits to your stores have been a pleasant surprise.  Your staff have been pleasant, and handling issues as they arise in a professional, pleasant  manner.  \\n\\nI look forward to returning again SOON., Love the friendly nature and personal service at this location!, I got excellent service at this location.  The cashier was so professional and pleasant.  The whole staff was excellent. Also, the food was really good!, My order was wrong and not the first time unfortunately..., Since the pandemic the hours are reduced so I can no longer go for breakfast before work.  Can only get Panera breakfast on a weekend day.\\nWith the pandemic many of us don't eat inside as fall approaches maybe some lights around the outdoor seating would be helpful\\n\\nWith the pandemic I don't eat at many other restaurants because they aren't as clean nor as careful as Panera., Curb side service is fast and friendly, The staff at the Pearl Drive location are amazing! They are happy, friendly, and wish me a good day when I get my coffee in the morning.  Salute to the team there! Thank you!, Not having napkins, nor sweetener available at the coffee station., I was very disappointed on my last visit. The Cobb salad that had additional ingredients added was missing bacon. I had said no dressing but it was included.  Had a stray tortilla chip in it.  The second Cobb salad was fine. The Chili Lime salad was missing avocado and had a stray crouton in it. Asked for Apple to be sliced but got a cup of apple chips instead and a whole apple that had some cruddy stuff stuck to it which my daughter couldn???t bring herself to eat.  Very concerned that there were stray items found in 2 salads. I have a daughter with food allergies and it could have presented a serious problem.  I already contacted the store manager and he said he would send me a coupon for a free meal. After speaking with him we found more issues; the stray items in the salads and the missing avocado., Mac n cheese had dark brown shells which would indicate that it was burnt., If a customer asks for something not to be included on their food it should be followed. People do have food allergies, I ordered a Frontega panni sandwich, which I did not receive. Instead I received a sandwich with (I think) jalapeno and avacado. I didn't mind the avocado, but did not like the jalapeno. It was not my Frontega chicken sandwich which I dearly love., thank you for having a covered drive thru!, Food good, I was frustrated that I couldn't just order a turkey sandwich.  I had to order a bacon turkey bravo and modify it to what I wanted., When wrapping sandwiches to go, I really wish the pickle was not wrapped with the sandwich as the sandwich then tastes like pickle.  I really liked the cranberry walnut bread and am sorry it is not on the menu., I was frustrated being unable to figure out how to redeem my free pastry. Gave up entirely and felt angry., The dressing on the Asian sesame salad is awful....the old dressing was soooooo much better. I am\\nGlad I had some of another brand of an Asian dressing in my refrigerator because the Panera dressing was tasteless except for toooooo much Of the red pepper flakes. Disappointed as your food is always so good and it has been so long since I had any.  Too bad, that salad is off my list. ????????????, The whole crew are professional and very welcoming.\""
            ]
          },
          "metadata": {},
          "execution_count": 29
        }
      ]
    },
    {
      "cell_type": "code",
      "source": [
        "text = str(original_text)"
      ],
      "metadata": {
        "id": "L8MfL0YE4OaT"
      },
      "execution_count": 34,
      "outputs": []
    },
    {
      "cell_type": "code",
      "source": [
        "import gensim\n",
        "from gensim.summarization import summarize\n",
        "\n",
        "#To get more summaries, we can increase the size. Without word_count, we will get the shortest summary about the text\n",
        "short_summary = summarize(text, word_count=40)\n",
        "print(short_summary)"
      ],
      "metadata": {
        "id": "RItrKMrGOWhD",
        "colab": {
          "base_uri": "https://localhost:8080/"
        },
        "outputId": "800c9c51-dc55-4441-a9c3-666f9e622039"
      },
      "execution_count": 38,
      "outputs": [
        {
          "output_type": "stream",
          "name": "stdout",
          "text": [
            "2                  As always, great food and great service!\n",
            "4         Fast, accurate and friendly people taking orde...\n",
            "5         I eat at Panera everyday for breakfast because...\n",
            "7                                    I love the coffee club\n",
            "586325    Very fast curbside delivery.\n",
            "586326    The delivery was quick.\n"
          ]
        }
      ]
    },
    {
      "cell_type": "markdown",
      "source": [
        "# **Calculate the Sales Conversion using Bayesian probability.**"
      ],
      "metadata": {
        "id": "3JDOOMX9TvG5"
      }
    },
    {
      "cell_type": "code",
      "source": [
        "df['MAIN_CATEGORY_DESC'].value_counts()"
      ],
      "metadata": {
        "id": "jihyGkHAU8yE",
        "colab": {
          "base_uri": "https://localhost:8080/"
        },
        "outputId": "ff5bc974-8ca7-4659-d7be-cfe3ce927d7f"
      },
      "execution_count": 22,
      "outputs": [
        {
          "output_type": "execute_result",
          "data": {
            "text/plain": [
              "Extras & Side Choices          304382\n",
              "U Pick 2                        83456\n",
              "No History                      29450\n",
              "Sandwiches                      16055\n",
              "Coffee & Hot Tea                15849\n",
              "Individual Bagels               15186\n",
              "Bubbler and Fountain Drinks     13985\n",
              "Salads                          13967\n",
              "Catering                        13069\n",
              "Soup                            10655\n",
              "Bars, Cookies, Brownies         10130\n",
              "Bulk Bagels                      9604\n",
              "Pastries                         8159\n",
              "Breakfast Sandwiches             4621\n",
              "Muffins & Muffies                4016\n",
              "Family Feast                     3996\n",
              "Cream Cheese                     3373\n",
              "Descriptors                      2977\n",
              "Pasta                            2851\n",
              "Frozen Drinks & Smoothies        2729\n",
              "Scones                           2165\n",
              "Souffles                         1860\n",
              "Kids                             1819\n",
              "Espresso Beverages               1781\n",
              "Cream Cheese Tubs                1662\n",
              "Sweet Goods Gifting              1563\n",
              "Juice, Bottled Drinks, Milk      1496\n",
              "Loaves & Miche                   1467\n",
              "Parfait, Fruit, Cereal           1074\n",
              "Bowls                             847\n",
              "Baguettes, Demis, Rolls           775\n",
              "Take Home Soup                    373\n",
              "Add On                            343\n",
              "Extras & Miscellaneous            219\n",
              "Bulk Beverages                    139\n",
              "Merchandise                       112\n",
              "Other Bakery                       93\n",
              "Panera Grocery                     19\n",
              "Unassigned                         14\n",
              "Name: MAIN_CATEGORY_DESC, dtype: int64"
            ]
          },
          "metadata": {},
          "execution_count": 22
        }
      ]
    },
    {
      "cell_type": "code",
      "source": [
        "df['MAIN_SUB_CATEGORY_CD'].value_counts"
      ],
      "metadata": {
        "id": "4MlbJUn-VR7d",
        "colab": {
          "base_uri": "https://localhost:8080/"
        },
        "outputId": "c3d28aa5-3090-4bb9-b596-4d40948c2ae5"
      },
      "execution_count": 23,
      "outputs": [
        {
          "output_type": "execute_result",
          "data": {
            "text/plain": [
              "<bound method IndexOpsMixin.value_counts of 0         5020.0\n",
              "1         3980.0\n",
              "2         4680.0\n",
              "3         3300.0\n",
              "4         4660.0\n",
              "           ...  \n",
              "586326    4660.0\n",
              "586327    4730.0\n",
              "586328    3060.0\n",
              "586329    3340.0\n",
              "586330    3330.0\n",
              "Name: MAIN_SUB_CATEGORY_CD, Length: 586331, dtype: float64>"
            ]
          },
          "metadata": {},
          "execution_count": 23
        }
      ]
    }
  ]
}